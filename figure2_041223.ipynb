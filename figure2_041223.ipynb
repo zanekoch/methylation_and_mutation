{
 "cells": [
  {
   "cell_type": "code",
   "execution_count": 1,
   "metadata": {},
   "outputs": [],
   "source": [
    "import sys\n",
    "sys.path.append('/cellar/users/zkoch/methylation_and_mutation/source_files')\n",
    "%load_ext autoreload\n",
    "%aimport compute_comethylation, utils\n",
    "%autoreload 1\n",
    "import get_data, analysis, utils, plotting, compute_comethylation, methyl_mut_burden, somatic_mut_clock, mutation_features, methylation_pred"
   ]
  },
  {
   "cell_type": "code",
   "execution_count": 2,
   "metadata": {},
   "outputs": [
    {
     "name": "stderr",
     "output_type": "stream",
     "text": [
      "/tmp/ipykernel_2489160/3477137944.py:23: MatplotlibDeprecationWarning: The seaborn styles shipped by Matplotlib are deprecated since 3.6, as they no longer correspond to the styles shipped by seaborn. However, they will remain available as 'seaborn-v0_8-<style>'. Alternatively, directly use the seaborn API instead.\n",
      "  plt.style.use(\"seaborn-deep\")\n"
     ]
    }
   ],
   "source": [
    "import glob\n",
    "import os\n",
    "import matplotlib.pyplot as plt\n",
    "import numpy as np\n",
    "import pandas as pd\n",
    "import seaborn as sns\n",
    "from collections import defaultdict\n",
    "import pickle\n",
    "import dask.dataframe as dd\n",
    "from scipy.stats import spearmanr\n",
    "from rich.progress import track\n",
    "import statsmodels.formula.api as smf\n",
    "import matplotlib.ticker as ticker\n",
    "from scipy.stats import spearmanr, pearsonr\n",
    "from scipy import stats\n",
    "import dask\n",
    "import sklearn\n",
    "from sklearn.linear_model import LinearRegression, ElasticNet, ElasticNetCV\n",
    "from pyfaidx import Fasta\n",
    "\n",
    "\n",
    "%config InlineBackend.figure_format = 'retina'\n",
    "plt.style.use(\"seaborn-deep\")"
   ]
  },
  {
   "cell_type": "code",
   "execution_count": 3,
   "metadata": {},
   "outputs": [],
   "source": [
    "out_dir = \"/cellar/users/zkoch/methylation_and_mutation/output_dirs/032423_comethyl_output\"\n",
    "dependency_f_dir = \"/cellar/users/zkoch/methylation_and_mutation/dependency_files\"\n",
    "data_dir = \"/cellar/users/zkoch/methylation_and_mutation/data\"\n",
    "corr_dir = '/cellar/users/zkoch/methylation_and_mutation/dependency_files/chr_dset_corrs'\n",
    "#methylation_dir = '/cellar/users/zkoch/methylation_and_mutation/data/processed_methylation'\n",
    "methylation_dir =  '/cellar/users/zkoch/methylation_and_mutation/data/dropped3SD_qnormed_methylation_new'"
   ]
  },
  {
   "attachments": {},
   "cell_type": "markdown",
   "metadata": {},
   "source": [
    "# TCGA data"
   ]
  },
  {
   "cell_type": "code",
   "execution_count": 4,
   "metadata": {},
   "outputs": [
    {
     "name": "stdout",
     "output_type": "stream",
     "text": [
      "Got mutations and metadata, reading methylation\n",
      "Converting Dask df to pandas df, takes ~10min\n",
      "Got methylation, transposing\n",
      "Done\n"
     ]
    }
   ],
   "source": [
    "illumina_cpg_locs_df, all_mut_df, all_methyl_df, all_methyl_df_t, all_meta_df, dataset_names_list = get_data.main(\n",
    "    illum_cpg_locs_fn = os.path.join(dependency_f_dir, \"illumina_cpg_450k_locations.csv\"),\n",
    "    out_dir = out_dir,\n",
    "    methyl_dir = methylation_dir,\n",
    "    mut_fn = os.path.join(data_dir, \"PANCAN_mut.tsv.gz\"),\n",
    "    meta_fn = os.path.join(data_dir, \"PANCAN_meta.tsv\"))\n",
    "# read in other already computed files8\n",
    "all_mut_w_age_df, all_methyl_age_df_t = utils.add_ages_to_mut_and_methyl(all_mut_df, all_meta_df, all_methyl_df_t)"
   ]
  },
  {
   "attachments": {},
   "cell_type": "markdown",
   "metadata": {},
   "source": [
    "# Read comethylation results"
   ]
  },
  {
   "cell_type": "code",
   "execution_count": null,
   "metadata": {},
   "outputs": [],
   "source": [
    "# distance\n",
    "paths = glob.glob(\"/cellar/users/zkoch/methylation_and_mutation/output_dirs/032423_comethyl_output/distance_based_100kbMax/all_metrics*\")\n",
    "c_paths = glob.glob(\"/cellar/users/zkoch/methylation_and_mutation/output_dirs/032423_comethyl_output/distance_based_100kbMax/comparison_sites*\")\n",
    "\n",
    "\"\"\"dist_all_metrics_dfs = []\n",
    "for path in paths:\n",
    "    # read in metrics sites from dask paruet\n",
    "    one_metrics_dd = dd.read_parquet(path)\n",
    "    one_metrics_df = one_metrics_dd.compute()\n",
    "    dist_all_metrics_dfs.append(one_metrics_df)\n",
    "dist_all_metrics_df = pd.concat(dist_all_metrics_dfs)\n",
    "dist_all_metrics_df.reset_index(inplace=True, drop=True)\"\"\"\n",
    "\n",
    "dist_all_comparison_site_dfs = []\n",
    "for path in c_paths:\n",
    "    # read in metrics sites from dask paruet\n",
    "    one_comp_dd = dd.read_parquet(path)\n",
    "    one_comp_df = one_comp_dd.compute()\n",
    "    dist_all_comparison_site_dfs.append(one_comp_df)\n",
    "dist_all_comparison_site_df = pd.concat(dist_all_comparison_site_dfs)\n",
    "dist_all_comparison_site_df.reset_index(inplace=True, drop=True)\n",
    "\n",
    "dist_mean_metrics_df = pd.read_parquet(\"/cellar/users/zkoch/methylation_and_mutation/output_dirs/032423_comethyl_output/distance_based_100kbMax/mean_metrics_by_dist.parquet\")"
   ]
  },
  {
   "cell_type": "code",
   "execution_count": null,
   "metadata": {},
   "outputs": [],
   "source": [
    "# correlation\n",
    "paths = glob.glob(\"/cellar/users/zkoch/methylation_and_mutation/output_dirs/032423_comethyl_output/correl_based_1000Top_no_mutMF/all_metrics*\")\n",
    "c_paths = glob.glob(\"/cellar/users/zkoch/methylation_and_mutation/output_dirs/032423_comethyl_output/correl_based_1000Top_no_mutMF/comparison_sites*\")\n",
    "\n",
    "\"\"\"all_metrics_dfs = []\n",
    "for path in paths:\n",
    "    # read in metrics sites from dask paruet\n",
    "    one_metrics_dd = dd.read_parquet(path)\n",
    "    one_metrics_df = one_metrics_dd.compute()\n",
    "    all_metrics_dfs.append(one_metrics_df)\n",
    "corr_all_metrics_df = pd.concat(all_metrics_dfs)\n",
    "corr_all_metrics_df.reset_index(inplace=True, drop=True)\"\"\"\n",
    "\n",
    "\n",
    "\"\"\"all_comparison_site_dfs = []\n",
    "for path in c_paths:\n",
    "    # read in metrics sites from dask paruet\n",
    "    one_comp_dd = dd.read_parquet(path)\n",
    "    one_comp_df = one_comp_dd.compute()\n",
    "    all_comparison_site_dfs.append(one_comp_df)\n",
    "corr_all_comparison_site_df = pd.concat(all_comparison_site_dfs)\n",
    "corr_all_comparison_site_df.reset_index(inplace=True, drop=True)\"\"\"\n",
    "\n",
    "corr_mean_metrics_df = pd.read_parquet(\"/cellar/users/zkoch/methylation_and_mutation/output_dirs/032423_comethyl_output/correl_based_1000Top_no_mutMF/mean_metrics_by_dist_old.parquet\")"
   ]
  },
  {
   "cell_type": "markdown",
   "metadata": {},
   "source": []
  }
 ],
 "metadata": {
  "kernelspec": {
   "display_name": "tf_env",
   "language": "python",
   "name": "python3"
  },
  "language_info": {
   "codemirror_mode": {
    "name": "ipython",
    "version": 3
   },
   "file_extension": ".py",
   "mimetype": "text/x-python",
   "name": "python",
   "nbconvert_exporter": "python",
   "pygments_lexer": "ipython3",
   "version": "3.10.10"
  },
  "orig_nbformat": 4
 },
 "nbformat": 4,
 "nbformat_minor": 2
}
