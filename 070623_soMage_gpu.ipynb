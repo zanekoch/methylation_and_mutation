{
 "cells": [
  {
   "cell_type": "code",
   "execution_count": 1,
   "id": "d0584011-ec47-49b2-8575-9d61eca283e1",
   "metadata": {},
   "outputs": [],
   "source": [
    "import sys\n",
    "sys.path.append('/cellar/users/zkoch/methylation_and_mutation/source_files')\n",
    "%load_ext autoreload\n",
    "%aimport mutation_features, methylation_pred, somatic_mut_clock, methylation_motifs\n",
    "%autoreload 1\n",
    "import get_data, utils, mutation_features, methylation_pred, somatic_mut_clock"
   ]
  },
  {
   "cell_type": "code",
   "execution_count": null,
   "id": "a23e14dc-b2e9-4663-b296-2a6bb0433816",
   "metadata": {},
   "outputs": [
    {
     "name": "stderr",
     "output_type": "stream",
     "text": [
      "The seaborn styles shipped by Matplotlib are deprecated since 3.6, as they no longer correspond to the styles shipped by seaborn. However, they will remain available as 'seaborn-v0_8-<style>'. Alternatively, directly use the seaborn API instead.\n"
     ]
    }
   ],
   "source": [
    "import glob\n",
    "import os\n",
    "import matplotlib.pyplot as plt\n",
    "import numpy as np\n",
    "import pandas as pd\n",
    "import seaborn as sns\n",
    "import pickle\n",
    "import dask.dataframe as dd\n",
    "from scipy.stats import spearmanr, pearsonr\n",
    "from scipy import stats\n",
    "import dask\n",
    "import sklearn\n",
    "from sklearn.linear_model import LinearRegression, ElasticNet, ElasticNetCV\n",
    "import xgboost as xgb\n",
    "import shap\n",
    "from pymemesuite.common import MotifFile\n",
    "import Bio.SeqIO\n",
    "from pymemesuite.common import Sequence\n",
    "from pymemesuite.fimo import FIMO\n",
    "\n",
    "\n",
    "%config InlineBackend.figure_format = 'retina'\n",
    "plt.style.use(\"seaborn-deep\")\n",
    "plt.rcParams['svg.fonttype'] = 'none'\n",
    "plt.rcParams['pdf.fonttype'] = 42\n",
    "plt.rcParams['ps.fonttype'] = 42"
   ]
  },
  {
   "cell_type": "markdown",
   "id": "ac495f2b-dc95-45b7-ae62-3487bb14601d",
   "metadata": {},
   "source": [
    "# Read ICGC"
   ]
  },
  {
   "cell_type": "code",
   "execution_count": 3,
   "id": "f0a8c817-5123-4795-bae5-4828ca9e6083",
   "metadata": {
    "tags": []
   },
   "outputs": [
    {
     "name": "stdout",
     "output_type": "stream",
     "text": [
      "reading in data\n",
      "Got mutations and metadata, reading methylation\n",
      "Got methylation, transposing\n",
      "Done\n"
     ]
    }
   ],
   "source": [
    "# qnorm \n",
    "icgc_mut_w_age_df, illumina_cpg_locs_df, icgc_methyl_age_df_t, icgc_matrix_qtl_dir, icgc_covariate_fn = get_data.read_icgc_data()"
   ]
  },
  {
   "cell_type": "markdown",
   "id": "7eb9973e-e41d-47ee-bad7-6d521367a697",
   "metadata": {},
   "source": [
    "# ICGC GPU test"
   ]
  },
  {
   "cell_type": "code",
   "execution_count": 4,
   "id": "9604243a-e997-460b-af83-5d857b4c71ca",
   "metadata": {
    "tags": []
   },
   "outputs": [
    {
     "name": "stderr",
     "output_type": "stream",
     "text": [
      "The least populated class in y has only 1 members, which is less than n_splits=5.\n"
     ]
    }
   ],
   "source": [
    "motif_occurence_df = pd.read_parquet(\n",
    "        \"/cellar/users/zkoch/methylation_and_mutation/data/methylation_motifs_weiWang/motif_occurences/motif_occurences_combined_15kb.parquet\"\n",
    "        )\n",
    "mut_feat_icgc = mutation_features.mutationFeatures(\n",
    "        all_mut_w_age_df = icgc_mut_w_age_df, illumina_cpg_locs_df = illumina_cpg_locs_df, \n",
    "        all_methyl_age_df_t = icgc_methyl_age_df_t, out_dir = \"./\", \n",
    "        consortium = 'ICGC', dataset = '', cross_val_num = 0,\n",
    "        matrix_qtl_dir = icgc_matrix_qtl_dir,\n",
    "        covariate_fn = icgc_covariate_fn, motif_occurence_df = motif_occurence_df\n",
    "    )"
   ]
  },
  {
   "cell_type": "code",
   "execution_count": 5,
   "id": "262f6069-e06c-4496-9073-d2873817a7e0",
   "metadata": {
    "tags": []
   },
   "outputs": [
    {
     "name": "stdout",
     "output_type": "stream",
     "text": [
      "Finished 0 of 2\n"
     ]
    }
   ],
   "source": [
    "mut_feat_params = {\n",
    "    'aggregate': 'Both',\n",
    "    'num_correl_sites': 500,\n",
    "    'max_meqtl_sites': 0,\n",
    "    'nearby_window_size': 50000,\n",
    "    'extend_amount': 500\n",
    "}\n",
    "\n",
    "mut_feat_icgc.create_all_feat_mats(\n",
    "    cpg_ids = icgc_methyl_age_df_t.columns[7:8].tolist(), \n",
    "    aggregate = mut_feat_params['aggregate'],\n",
    "    num_correl_sites = mut_feat_params['num_correl_sites'], \n",
    "    max_meqtl_sites=mut_feat_params['max_meqtl_sites'],\n",
    "    nearby_window_size = mut_feat_params['nearby_window_size'], \n",
    "    extend_amount = mut_feat_params['extend_amount'] \n",
    "    )"
   ]
  },
  {
   "cell_type": "code",
   "execution_count": 7,
   "id": "b89d88a2-a220-42fb-8e9b-dbbeb32183c4",
   "metadata": {
    "tags": []
   },
   "outputs": [
    {
     "name": "stdout",
     "output_type": "stream",
     "text": [
      "OUTER: done training 0 CpGs of 2\n",
      "Predicted methylation for 0 CpGs of 2\n",
      "['PRAD', 'PACA', 'PBCA', 'CLLE', 'PAEN', 'UTCA']\n",
      "Done getting performance of dataset: PRAD\n",
      "Done getting performance of dataset: PACA\n",
      "Done getting performance of dataset: PBCA\n",
      "Done getting performance of dataset: CLLE\n",
      "Done getting performance of dataset: PAEN\n",
      "Done getting performance of dataset: UTCA\n"
     ]
    }
   ],
   "source": [
    "methyl_pred = methylation_pred.methylationPrediction(\n",
    "                mut_feat_store = mut_feat_icgc.mutation_features_store,\n",
    "                #mut_feat_store_fns = mut_feat_store_fns,\n",
    "                model_type = \"xgboost\",\n",
    "                baseline = \"none\",\n",
    "                agg_only = True,\n",
    "                scale_counts_within_dataset = True,\n",
    "                predict_with_random_feat = -1,\n",
    "                illumina_cpg_locs_df = illumina_cpg_locs_df,\n",
    "                all_methyl_age_df_t = icgc_methyl_age_df_t\n",
    "                )\n",
    "methyl_pred.train_all_models()\n",
    "methyl_pred.apply_all_models()\n",
    "methyl_pred.calc_performance_by_dataset()\n"
   ]
  },
  {
   "cell_type": "code",
   "execution_count": 17,
   "id": "8a2a2e17-45fd-4fcf-84a0-be5f6fc9788b",
   "metadata": {
    "tags": []
   },
   "outputs": [
    {
     "name": "stdout",
     "output_type": "stream",
     "text": [
      "wrote out trained models and predictions to /cellar/users/zkoch/methylation_and_mutation/test_out\n",
      "wrote out performance by dataset to /cellar/users/zkoch/methylation_and_mutation/test_out\n"
     ]
    }
   ],
   "source": [
    "methyl_pred.save_models_and_preds(out_dir = \"/cellar/users/zkoch/methylation_and_mutation/test_out\")"
   ]
  },
  {
   "cell_type": "code",
   "execution_count": 18,
   "id": "eb24bddf-273d-4dd3-908f-6f18136ab001",
   "metadata": {
    "tags": []
   },
   "outputs": [],
   "source": [
    "test_df = pd.read_parquet(\"/cellar/users/zkoch/methylation_and_mutation/test_out/performance_by_dataset_xgboost_nonebaseline_agg_only_predict_with_random_feat_2.parquet\")"
   ]
  },
  {
   "cell_type": "code",
   "execution_count": null,
   "id": "c9a82d23-dec5-413c-8f61-a451030d54b3",
   "metadata": {},
   "outputs": [],
   "source": []
  }
 ],
 "metadata": {
  "kernelspec": {
   "display_name": "Python 3",
   "language": "python",
   "name": "python3"
  },
  "language_info": {
   "codemirror_mode": {
    "name": "ipython",
    "version": 3
   },
   "file_extension": ".py",
   "mimetype": "text/x-python",
   "name": "python",
   "nbconvert_exporter": "python",
   "pygments_lexer": "ipython3",
   "version": "3.10.12"
  }
 },
 "nbformat": 4,
 "nbformat_minor": 5
}
