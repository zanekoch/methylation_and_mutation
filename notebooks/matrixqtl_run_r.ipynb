{
 "cells": [
  {
   "cell_type": "code",
   "execution_count": null,
   "metadata": {
    "vscode": {
     "languageId": "r"
    }
   },
   "outputs": [
    {
     "ename": "",
     "evalue": "",
     "output_type": "error",
     "traceback": [
      "\u001b[1;31mFailed to start the Kernel. \n",
      "Error in loadNamespace(x) : there is no package called ‘IRkernel’\n",
      "Calls: loadNamespace -> withRestarts -> withOneRestart -> doWithOneRestart\n",
      "Execution halted. \n",
      "View Jupyter <a href='command:jupyter.viewOutput'>log</a> for further details."
     ]
    }
   ],
   "source": [
    "library(\"MatrixEQTL\")\n",
    "base.dir = find.package(\"MatrixEQTL\")\n",
    "\n",
    "useModel = modelLINEAR; # modelANOVA or modelLINEAR or modelLINEAR_CROSS\n",
    "SNP_file_name = paste(base.dir, \"/data/SNP.txt\", sep=\"\");\n",
    "expression_file_name = paste(base.dir, \"/data/GE.txt\", sep=\"\");\n",
    "covariates_file_name = character(); #paste(base.dir, \"/data/Covariates.txt\", sep=\"\");\n",
    "output_file_name = \"/cellar/users/zkoch/methylation_and_mutation/data/matrixQtl_data/test_out.tsv\";\n",
    "pvOutputThreshold = 1e-2;\n",
    "errorCovariance = numeric();\n",
    "\n",
    "snps = SlicedData$new();\n",
    "snps$LoadFile(SNP_file_name, skipRows = 1, skipColumns = 1, sliceSize = 2000, omitCharacters = \"NA\", delimiter = \"\\t\")\n",
    "\n",
    "# do same to expression data\n",
    "gene = SlicedData$new();\n",
    "gene$LoadFile(expression_file_name, skipRows = 1, skipColumns = 1, sliceSize = 2000, omitCharacters = \"NA\", delimiter = \"\\t\")\n",
    "\n",
    "# do same to covariates data\n",
    "covariates = SlicedData$new();\n",
    "\n",
    "me = Matrix_eQTL_engine(\n",
    "    snps = snps,\n",
    "    gene = gene,\n",
    "    cvrt = covariates,\n",
    "    output_file_name = output_file_name,\n",
    "    pvOutputThreshold = pvOutputThreshold,\n",
    "    useModel = useModel,\n",
    "    errorCovariance = errorCovariance,\n",
    "    verbose = TRUE,\n",
    "    pvalue.hist = TRUE,\n",
    "    min.pv.by.genesnp = FALSE,\n",
    "    noFDRsaveMemory = FALSE);\n",
    "\n"
   ]
  },
  {
   "cell_type": "code",
   "execution_count": null,
   "metadata": {
    "vscode": {
     "languageId": "r"
    }
   },
   "outputs": [
    {
     "ename": "",
     "evalue": "",
     "output_type": "error",
     "traceback": [
      "\u001b[1;31mFailed to start the Kernel. \n",
      "Error in loadNamespace(x) : there is no package called ‘IRkernel’\n",
      "Calls: loadNamespace -> withRestarts -> withOneRestart -> doWithOneRestart\n",
      "Execution halted. \n",
      "View Jupyter <a href='command:jupyter.viewOutput'>log</a> for further details."
     ]
    }
   ],
   "source": [
    "library(feather)"
   ]
  },
  {
   "cell_type": "code",
   "execution_count": null,
   "metadata": {
    "vscode": {
     "languageId": "r"
    }
   },
   "outputs": [],
   "source": []
  }
 ],
 "metadata": {
  "kernelspec": {
   "display_name": "R",
   "language": "R",
   "name": "ir"
  },
  "language_info": {
   "codemirror_mode": "r",
   "file_extension": ".r",
   "mimetype": "text/x-r-source",
   "name": "R",
   "pygments_lexer": "r",
   "version": "3.10.4"
  },
  "orig_nbformat": 4,
  "vscode": {
   "interpreter": {
    "hash": "147553ea5f93dd16b075437a70a6e10fdaa3e4cff0fb494d1cfd52f09746fc75"
   }
  }
 },
 "nbformat": 4,
 "nbformat_minor": 2
}
