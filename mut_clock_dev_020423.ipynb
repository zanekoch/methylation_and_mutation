{
 "cells": [
  {
   "cell_type": "code",
   "execution_count": 1,
   "metadata": {},
   "outputs": [],
   "source": [
    "import sys\n",
    "sys.path.append('/cellar/users/zkoch/methylation_and_mutation/source_files')\n",
    "%load_ext autoreload\n",
    "%aimport mutation_features, methylation_pred\n",
    "%autoreload 1\n",
    "import get_data, analysis, utils, plotting, compute_comethylation, methyl_mut_burden, somatic_mut_clock, mutation_features, methylation_pred"
   ]
  },
  {
   "cell_type": "code",
   "execution_count": 2,
   "metadata": {},
   "outputs": [],
   "source": [
    "import glob\n",
    "import os\n",
    "import matplotlib.pyplot as plt\n",
    "import numpy as np\n",
    "import pandas as pd\n",
    "import seaborn as sns\n",
    "from collections import defaultdict\n",
    "import pickle\n",
    "import dask.dataframe as dd\n",
    "from scipy.stats import spearmanr\n",
    "from rich.progress import track\n",
    "import statsmodels.formula.api as smf\n",
    "import matplotlib.ticker as ticker\n",
    "import colorcet as cc\n",
    "from scipy.stats import spearmanr\n",
    "from scipy import stats\n",
    "import dask\n",
    "import sklearn\n",
    "from sklearn.linear_model import LinearRegression, ElasticNet, ElasticNetCV\n",
    "\n",
    "%config InlineBackend.figure_format = 'retina'\n",
    "plt.style.use(\"seaborn-deep\")"
   ]
  },
  {
   "cell_type": "code",
   "execution_count": 45,
   "metadata": {},
   "outputs": [],
   "source": [
    "out_dir = \"/cellar/users/zkoch/methylation_and_mutation/output_dirs/021423_output\"\n",
    "dependency_f_dir = \"./dependency_files\"\n",
    "data_dir = \"./data\"\n",
    "corr_dir = '/cellar/users/zkoch/methylation_and_mutation/dependency_files/chr_dset_corrs'\n",
    "#methylation_dir = '/cellar/users/zkoch/methylation_and_mutation/data/dropped3SD_qnormed_methylation'\n",
    "methylation_dir = '/cellar/users/zkoch/methylation_and_mutation/data/processed_methylation'\n",
    "icgc_dir = \"/cellar/users/zkoch/methylation_and_mutation/data/icgc\""
   ]
  },
  {
   "cell_type": "markdown",
   "metadata": {},
   "source": [
    "# TCGA"
   ]
  },
  {
   "cell_type": "markdown",
   "metadata": {},
   "source": [
    "### Get data"
   ]
  },
  {
   "cell_type": "code",
   "execution_count": 4,
   "metadata": {},
   "outputs": [
    {
     "name": "stdout",
     "output_type": "stream",
     "text": [
      "Got mutations and metadata, reading methylation\n",
      "Converting Dask df to pandas df, takes ~10min\n",
      "Got methylation, transposing\n",
      "Done\n"
     ]
    }
   ],
   "source": [
    "illumina_cpg_locs_df, all_mut_df, all_methyl_df, all_methyl_df_t, all_meta_df, dataset_names_list = get_data.main(\n",
    "    illum_cpg_locs_fn = os.path.join(dependency_f_dir, \"illumina_cpg_450k_locations.csv\"),\n",
    "    out_dir = out_dir,\n",
    "    methyl_dir = methylation_dir,\n",
    "    mut_fn = os.path.join(data_dir, \"PANCAN_mut.tsv.gz\"),\n",
    "    meta_fn = os.path.join(data_dir, \"PANCAN_meta.tsv\"))"
   ]
  },
  {
   "cell_type": "code",
   "execution_count": 5,
   "metadata": {},
   "outputs": [],
   "source": [
    "# read in other already computed files\n",
    "mut_in_measured_cpg_w_methyl_age_df = pd.read_parquet(os.path.join(dependency_f_dir, \"mut_in_measured_cpg_w_methyl_age_df_5year.parquet\"))\n",
    "all_mut_w_age_df, all_methyl_age_df_t = utils.add_ages_to_mut_and_methyl(all_mut_df, all_meta_df, all_methyl_df_t)"
   ]
  },
  {
   "cell_type": "code",
   "execution_count": 6,
   "metadata": {},
   "outputs": [],
   "source": [
    "# read in train and test samples\n",
    "train_samples_fn = os.path.join(dependency_f_dir, \"train_samples.txt\")\n",
    "with open(train_samples_fn, \"r\") as f:\n",
    "    training_samples = f.read().splitlines()\n",
    "# read in train and test samples\n",
    "test_samples_fn = os.path.join(dependency_f_dir,\"test_samples.txt\")\n",
    "with open(test_samples_fn, \"r\") as f:\n",
    "    testing_samples = f.read().splitlines()\n",
    "# read in mi\n",
    "mi_combined_df = pd.read_parquet(os.path.join(dependency_f_dir, 'mutual_informations', 'tcga_combinedMI_top10MI.parquet'))"
   ]
  },
  {
   "cell_type": "code",
   "execution_count": 7,
   "metadata": {},
   "outputs": [],
   "source": [
    "skcm_training_samples = list(set(all_methyl_age_df_t[all_methyl_age_df_t['dataset'] == 'SKCM'].index.to_list()).intersection(set(training_samples)))\n",
    "skcm_testing_samples = list(set(all_methyl_age_df_t[all_methyl_age_df_t['dataset'] == 'SKCM'].index.to_list()).intersection(set(testing_samples)))"
   ]
  },
  {
   "cell_type": "markdown",
   "metadata": {},
   "source": [
    "# ICGC"
   ]
  },
  {
   "cell_type": "markdown",
   "metadata": {},
   "source": [
    "### Get data"
   ]
  },
  {
   "cell_type": "code",
   "execution_count": 28,
   "metadata": {},
   "outputs": [
    {
     "data": {
      "text/plain": [
       "\"icgc_methyl_dd = dd.read_parquet('/cellar/users/zkoch/methylation_and_mutation/data/icgc/methyl_dir')\\nicgc_methyl_df = icgc_methyl_dd.compute()\\nicgc_methyl_df_t = icgc_methyl_df.T\\nshared_samples = set(icgc_methyl_df_t.index) & set(icgc_mut_df['sample'].unique()) & set(icgc_meta_df['sample'].unique())\\nicgc_methyl_df_t = icgc_methyl_df_t.loc[shared_samples]\\nicgc_methyl_df_t.dropna(how = 'any', axis=1, inplace=True)\\nicgc_mi_df = pd.read_parquet('/cellar/users/zkoch/methylation_and_mutation/output_dirs/011723_output/icgc_mi.parquet')\\nicgc_mi_df.sort_values(by='mutual_info', ascending=False, inplace=True)\""
      ]
     },
     "execution_count": 28,
     "metadata": {},
     "output_type": "execute_result"
    }
   ],
   "source": [
    "icgc_mut_df = pd.read_parquet(\"/cellar/users/zkoch/methylation_and_mutation/data/icgc/for_matrixQTL/icgc_mut_df.parquet\")\n",
    "icgc_meta_df = pd.read_parquet(\"/cellar/users/zkoch/methylation_and_mutation/data/icgc/for_matrixQTL/icgc_meta_df.parquet\")\n",
    "illumina_cpg_locs_df = get_data.get_illum_locs(os.path.join(dependency_f_dir, \"illumina_cpg_450k_locations.csv\"))\n",
    "\"\"\"icgc_methyl_dd = dd.read_parquet('/cellar/users/zkoch/methylation_and_mutation/data/icgc/methyl_dir')\n",
    "icgc_methyl_df = icgc_methyl_dd.compute()\n",
    "icgc_methyl_df_t = icgc_methyl_df.T\n",
    "shared_samples = set(icgc_methyl_df_t.index) & set(icgc_mut_df['sample'].unique()) & set(icgc_meta_df['sample'].unique())\n",
    "icgc_methyl_df_t = icgc_methyl_df_t.loc[shared_samples]\n",
    "icgc_methyl_df_t.dropna(how = 'any', axis=1, inplace=True)\n",
    "icgc_mi_df = pd.read_parquet('/cellar/users/zkoch/methylation_and_mutation/output_dirs/011723_output/icgc_mi.parquet')\n",
    "icgc_mi_df.sort_values(by='mutual_info', ascending=False, inplace=True)\"\"\""
   ]
  },
  {
   "cell_type": "code",
   "execution_count": 30,
   "metadata": {},
   "outputs": [
    {
     "data": {
      "text/plain": [
       "PRAD-CA    241\n",
       "PACA-AU    167\n",
       "OV-AU       93\n",
       "PBCA-DE     74\n",
       "CLLE-ES     55\n",
       "PAEN-AU     22\n",
       "UTCA-FR     17\n",
       "PRAD-UK      3\n",
       "Name: dataset, dtype: int64"
      ]
     },
     "execution_count": 30,
     "metadata": {},
     "output_type": "execute_result"
    }
   ],
   "source": [
    "icgc_meta_df['dataset'].value_counts()"
   ]
  },
  {
   "cell_type": "code",
   "execution_count": 5,
   "metadata": {},
   "outputs": [
    {
     "name": "stderr",
     "output_type": "stream",
     "text": [
      "/tmp/ipykernel_2262854/2635062645.py:10: SettingWithCopyWarning: \n",
      "A value is trying to be set on a copy of a slice from a DataFrame.\n",
      "Try using .loc[row_indexer,col_indexer] = value instead\n",
      "\n",
      "See the caveats in the documentation: https://pandas.pydata.org/pandas-docs/stable/user_guide/indexing.html#returning-a-view-versus-a-copy\n",
      "  icgc_meta_df_to_merge['gender'] = icgc_meta_df_to_merge['gender'].str.upper()\n"
     ]
    }
   ],
   "source": [
    "# rename columns \n",
    "icgc_mut_df.rename(columns={'chromosome':'chr', 'sample': 'case_submitter_id', 'chromosome_start':'start', 'MAF': 'DNA_VAF'}, inplace=True)\n",
    "icgc_meta_df.rename(columns={'sample': 'case_submitter_id'}, inplace=True)\n",
    "# merge with mut\n",
    "icgc_mut_w_age_df = icgc_mut_df.merge(icgc_meta_df, on='case_submitter_id', how='left')\n",
    "# and methyl dfs\n",
    "icgc_meta_df_to_merge = icgc_meta_df[['case_submitter_id', 'age_at_index', 'dataset', 'gender']]\n",
    "icgc_meta_df_to_merge.set_index('case_submitter_id', inplace=True)\n",
    "# make gender column uppercase\n",
    "icgc_meta_df_to_merge['gender'] = icgc_meta_df_to_merge['gender'].str.upper()\n",
    "icgc_methyl_age_df_t = icgc_methyl_df_t.merge(icgc_meta_df_to_merge, left_index=True, right_index=True, how='left')"
   ]
  },
  {
   "cell_type": "markdown",
   "metadata": {},
   "source": [
    "# TODO"
   ]
  },
  {
   "cell_type": "code",
   "execution_count": null,
   "metadata": {},
   "outputs": [],
   "source": [
    "\"\"\"\n",
    "1) Profile what the slowest part of creating feature matrices is and/or parallelize (either through bash jobs or python)\n",
    "2) Wrap the whole thing in a 5 fold cross validation, so changing the training and testing samples each time\n",
    "2) for some reason the training samples are not getting subset correctly\n",
    "3) Get the ICGC data to work\n",
    "\"\"\""
   ]
  },
  {
   "cell_type": "markdown",
   "metadata": {},
   "source": [
    "# Mutation features"
   ]
  },
  {
   "cell_type": "code",
   "execution_count": 46,
   "metadata": {},
   "outputs": [],
   "source": [
    "mut_feat = mutation_features.mutationFeatures(\n",
    "    all_mut_w_age_df = all_mut_w_age_df, illumina_cpg_locs_df = illumina_cpg_locs_df, \n",
    "    all_methyl_age_df_t = all_methyl_age_df_t, out_dir = out_dir, consortium = 'TCGA', dataset = 'SKCM',\n",
    "    cross_val_num = 1,\n",
    "    matrix_qtl_dir = \"/cellar/users/zkoch/methylation_and_mutation/data/matrixQtl_data/muts\"\n",
    "    )"
   ]
  },
  {
   "cell_type": "code",
   "execution_count": 48,
   "metadata": {},
   "outputs": [
    {
     "name": "stdout",
     "output_type": "stream",
     "text": [
      "Finished 0 of 2\n",
      "Saved mutation features to\n",
      "/cellar/users/zkoch/methylation_and_mutation/output_dirs/021423_output/TCGA_SKCM_5000correl_100correlExt_100meqtl_25000nearby_Bothagg_2numCpGs_startTopCpGs_crossValNum/TCGA_SKCM_5000correl_100correlExt_100meqtl_25000nearby_Bothagg_2numCpGs_startTopCpGs_crossValNum.features.pkl\n"
     ]
    }
   ],
   "source": [
    "# choose which CpGs to generate features for\n",
    "skcm_mi_df = mi_combined_df['SKCM'].to_frame().rename(columns = {'SKCM':'mutual_info'})\n",
    "cpg_pred_priority = mut_feat.choose_cpgs_to_train(mi_df = skcm_mi_df, bin_size=20000, sort_by=['mutual_info', 'count'])\n",
    "mut_feat.create_all_feat_mats(\n",
    "    cpg_ids = cpg_pred_priority.head(2)['#id'].to_list(), aggregate='Both',\n",
    "    num_correl_sites=5000, num_correl_ext_sites=100, max_meqtl_sites=100,\n",
    "    nearby_window_size=25000\n",
    "    )\n",
    "mut_feat_store_fn = mut_feat.save_mutation_features()"
   ]
  },
  {
   "cell_type": "code",
   "execution_count": 52,
   "metadata": {},
   "outputs": [
    {
     "name": "stdout",
     "output_type": "stream",
     "text": [
      "done 0 CpGs of 2\n",
      "Predicted methylation for 0 CpGs of 2\n"
     ]
    }
   ],
   "source": [
    "mut_feat_store_fns = [mut_feat_store_fn]\n",
    "# train predictors for these cpgs\n",
    "methyl_pred = methylation_pred.methylationPrediction(\n",
    "    mut_feat_store_fns = mut_feat_store_fns,\n",
    "    model_type = 'xgboost'\n",
    "    )\n",
    "methyl_pred.train_all_models()\n",
    "methyl_pred.apply_all_models()\n",
    "methyl_pred.save_models_and_preds()"
   ]
  },
  {
   "cell_type": "code",
   "execution_count": 55,
   "metadata": {},
   "outputs": [
    {
     "data": {
      "text/html": [
       "<div>\n",
       "<style scoped>\n",
       "    .dataframe tbody tr th:only-of-type {\n",
       "        vertical-align: middle;\n",
       "    }\n",
       "\n",
       "    .dataframe tbody tr th {\n",
       "        vertical-align: top;\n",
       "    }\n",
       "\n",
       "    .dataframe thead th {\n",
       "        text-align: right;\n",
       "    }\n",
       "</style>\n",
       "<table border=\"1\" class=\"dataframe\">\n",
       "  <thead>\n",
       "    <tr style=\"text-align: right;\">\n",
       "      <th></th>\n",
       "      <th>cg16622920</th>\n",
       "      <th>cg11793449</th>\n",
       "    </tr>\n",
       "  </thead>\n",
       "  <tbody>\n",
       "    <tr>\n",
       "      <th>r2</th>\n",
       "      <td>0.000957</td>\n",
       "      <td>0.009384</td>\n",
       "    </tr>\n",
       "    <tr>\n",
       "      <th>mae</th>\n",
       "      <td>0.191055</td>\n",
       "      <td>0.102767</td>\n",
       "    </tr>\n",
       "  </tbody>\n",
       "</table>\n",
       "</div>"
      ],
      "text/plain": [
       "     cg16622920  cg11793449\n",
       "r2     0.000957    0.009384\n",
       "mae    0.191055    0.102767"
      ]
     },
     "execution_count": 55,
     "metadata": {},
     "output_type": "execute_result"
    }
   ],
   "source": [
    "methyl_pred.perf_df"
   ]
  },
  {
   "cell_type": "code",
   "execution_count": 65,
   "metadata": {},
   "outputs": [],
   "source": [
    "with open(\"/cellar/users/zkoch/methylation_and_mutation/output_dirs/020723_output/TCGA_SKCM_5000correl_100correlExt_100meqtl_25000nearby_Bothagg_2500numCpGs_2500startTopCpGs_0crossValNum/TCGA_SKCM_5000correl_100correlExt_100meqtl_25000nearby_Bothagg_2500numCpGs_2500startTopCpGs_0crossValNum.features.pkl\", 'rb') as f:\n",
    "        mut_feat_store = pickle.load(f)"
   ]
  },
  {
   "cell_type": "code",
   "execution_count": 15,
   "metadata": {},
   "outputs": [],
   "source": [
    "methyl_pred_perf_df = pd.read_parquet(\"/cellar/users/zkoch/methylation_and_mutation/output_dirs/020723_output/TCGA_SKCM_5000correl_100correlExt_100meqtl_25000nearby_Bothagg_2500numCpGs_0startTopCpGs_0crossValNum/prediction_performance_xgboost.parquet\")"
   ]
  },
  {
   "cell_type": "code",
   "execution_count": 25,
   "metadata": {},
   "outputs": [
    {
     "data": {
      "text/plain": [
       "cg09807229    0.932512\n",
       "cg22736444    0.850674\n",
       "cg16314017    0.812843\n",
       "cg25949513    0.789752\n",
       "cg11076862    0.771992\n",
       "cg11994630    0.764812\n",
       "cg08858662    0.721128\n",
       "cg11875773    0.718832\n",
       "cg23847185    0.684714\n",
       "cg22304169    0.684339\n",
       "cg27403822    0.680632\n",
       "cg06948825    0.668372\n",
       "cg03347632    0.657688\n",
       "cg19642494    0.653494\n",
       "cg17885806    0.639160\n",
       "cg09540111    0.629850\n",
       "cg23991039    0.621726\n",
       "cg13403223    0.574650\n",
       "cg05037168    0.561266\n",
       "cg18861300    0.555698\n",
       "Name: r2, dtype: float64"
      ]
     },
     "execution_count": 25,
     "metadata": {},
     "output_type": "execute_result"
    }
   ],
   "source": [
    "methyl_pred_perf_df.loc['r2'].sort_values(ascending=False).head(20)"
   ]
  },
  {
   "cell_type": "code",
   "execution_count": null,
   "metadata": {},
   "outputs": [],
   "source": []
  },
  {
   "cell_type": "markdown",
   "metadata": {},
   "source": [
    "# ICGC testing"
   ]
  },
  {
   "cell_type": "code",
   "execution_count": 230,
   "metadata": {},
   "outputs": [],
   "source": [
    "icgc_mut_feat = mutation_features.mutationFeatures(\n",
    "    all_mut_w_age_df = icgc_mut_w_age_df, illumina_cpg_locs_df = illumina_cpg_locs_df, \n",
    "    all_methyl_age_df_t = icgc_methyl_age_df_t, out_dir = out_dir, dataset = 'PRAD-CA',\n",
    "    consortium = 'ICGC', train_samples = train, test_samples = test,\n",
    "    matrix_qtl_dir = \"/cellar/users/zkoch/methylation_and_mutation/output_dirs/icgc_muts_011423\"\n",
    "    )"
   ]
  },
  {
   "cell_type": "code",
   "execution_count": 289,
   "metadata": {},
   "outputs": [
    {
     "name": "stdout",
     "output_type": "stream",
     "text": [
      "Finished 0 of 10\n"
     ]
    }
   ],
   "source": [
    "icgc_cpg_pred_priority = icgc_mut_feat.choose_cpgs_to_train(mi_df = icgc_mi_df, bin_size=20000, sort_by=['mutual_info', 'count'])\n",
    "icgc_mut_feat.create_all_feat_mats(\n",
    "    cpg_ids = icgc_cpg_pred_priority.head(10)['#id'].to_list(), aggregate='Both',\n",
    "    num_correl_sites=5000, num_correl_ext_sites=100, max_meqtl_sites=100,\n",
    "    nearby_window_size=25000\n",
    "    )"
   ]
  },
  {
   "cell_type": "code",
   "execution_count": null,
   "metadata": {},
   "outputs": [],
   "source": [
    "mut_feat_store_fns = glob.glob('/cellar/users/zkoch/methylation_and_mutation/output_dirs/020723_output/ICGC__5000correl_100correlExt_100meqtl_25000nearby_Bothagg_2500numCpGs_*/*features.pkl')\n",
    "# train predictors for these cpgs\n",
    "icgc_methyl_pred = methylation_pred.methylationPrediction(\n",
    "    mut_feat_store_fns = mut_feat_store_fns,\n",
    "    model_type = 'xgboost'\n",
    "    )\n",
    "icgc_methyl_pred.train_all_models()\n",
    "icgc_methyl_pred.apply_all_models()\n",
    "icgc_methyl_pred.save_models_and_preds()"
   ]
  },
  {
   "cell_type": "code",
   "execution_count": 75,
   "metadata": {},
   "outputs": [
    {
     "data": {
      "text/html": [
       "<div>\n",
       "<style scoped>\n",
       "    .dataframe tbody tr th:only-of-type {\n",
       "        vertical-align: middle;\n",
       "    }\n",
       "\n",
       "    .dataframe tbody tr th {\n",
       "        vertical-align: top;\n",
       "    }\n",
       "\n",
       "    .dataframe thead th {\n",
       "        text-align: right;\n",
       "    }\n",
       "</style>\n",
       "<table border=\"1\" class=\"dataframe\">\n",
       "  <thead>\n",
       "    <tr style=\"text-align: right;\">\n",
       "      <th></th>\n",
       "      <th>cg21939836</th>\n",
       "      <th>cg19513004</th>\n",
       "      <th>cg10611580</th>\n",
       "      <th>cg19765450</th>\n",
       "      <th>cg25738301</th>\n",
       "      <th>cg20324262</th>\n",
       "      <th>cg12198841</th>\n",
       "      <th>cg14858014</th>\n",
       "      <th>cg11023456</th>\n",
       "      <th>cg20318272</th>\n",
       "      <th>...</th>\n",
       "      <th>cg25765464</th>\n",
       "      <th>cg03866192</th>\n",
       "      <th>cg24289912</th>\n",
       "      <th>cg21265427</th>\n",
       "      <th>cg24432193</th>\n",
       "      <th>cg06780032</th>\n",
       "      <th>cg19862213</th>\n",
       "      <th>cg12798157</th>\n",
       "      <th>cg26050734</th>\n",
       "      <th>cg11677683</th>\n",
       "    </tr>\n",
       "  </thead>\n",
       "  <tbody>\n",
       "    <tr>\n",
       "      <th>DO229587</th>\n",
       "      <td>0.816891</td>\n",
       "      <td>0.825813</td>\n",
       "      <td>0.474730</td>\n",
       "      <td>0.703935</td>\n",
       "      <td>0.711469</td>\n",
       "      <td>0.168689</td>\n",
       "      <td>0.614270</td>\n",
       "      <td>0.701690</td>\n",
       "      <td>0.586329</td>\n",
       "      <td>0.479562</td>\n",
       "      <td>...</td>\n",
       "      <td>0.466744</td>\n",
       "      <td>0.610034</td>\n",
       "      <td>0.462205</td>\n",
       "      <td>0.829533</td>\n",
       "      <td>0.674039</td>\n",
       "      <td>0.644141</td>\n",
       "      <td>0.710154</td>\n",
       "      <td>0.523064</td>\n",
       "      <td>0.627139</td>\n",
       "      <td>0.767209</td>\n",
       "    </tr>\n",
       "    <tr>\n",
       "      <th>DO34264</th>\n",
       "      <td>0.709653</td>\n",
       "      <td>0.699921</td>\n",
       "      <td>0.209666</td>\n",
       "      <td>0.662381</td>\n",
       "      <td>0.707842</td>\n",
       "      <td>0.173406</td>\n",
       "      <td>0.707967</td>\n",
       "      <td>0.628674</td>\n",
       "      <td>0.571434</td>\n",
       "      <td>0.681396</td>\n",
       "      <td>...</td>\n",
       "      <td>0.718385</td>\n",
       "      <td>0.238607</td>\n",
       "      <td>0.367543</td>\n",
       "      <td>0.835807</td>\n",
       "      <td>0.331577</td>\n",
       "      <td>0.236527</td>\n",
       "      <td>0.778839</td>\n",
       "      <td>0.329154</td>\n",
       "      <td>0.635916</td>\n",
       "      <td>0.795738</td>\n",
       "    </tr>\n",
       "    <tr>\n",
       "      <th>DO6492</th>\n",
       "      <td>0.840957</td>\n",
       "      <td>0.308044</td>\n",
       "      <td>0.119956</td>\n",
       "      <td>0.719026</td>\n",
       "      <td>0.833976</td>\n",
       "      <td>0.286467</td>\n",
       "      <td>0.802153</td>\n",
       "      <td>0.755499</td>\n",
       "      <td>0.899448</td>\n",
       "      <td>0.692306</td>\n",
       "      <td>...</td>\n",
       "      <td>0.785762</td>\n",
       "      <td>0.098763</td>\n",
       "      <td>0.090268</td>\n",
       "      <td>0.878880</td>\n",
       "      <td>0.228655</td>\n",
       "      <td>0.183940</td>\n",
       "      <td>0.851975</td>\n",
       "      <td>0.255794</td>\n",
       "      <td>0.496408</td>\n",
       "      <td>0.916266</td>\n",
       "    </tr>\n",
       "    <tr>\n",
       "      <th>DO51050</th>\n",
       "      <td>0.816891</td>\n",
       "      <td>0.825813</td>\n",
       "      <td>0.474730</td>\n",
       "      <td>0.703935</td>\n",
       "      <td>0.711469</td>\n",
       "      <td>0.168689</td>\n",
       "      <td>0.586204</td>\n",
       "      <td>0.732861</td>\n",
       "      <td>0.586329</td>\n",
       "      <td>0.469216</td>\n",
       "      <td>...</td>\n",
       "      <td>0.455235</td>\n",
       "      <td>0.610034</td>\n",
       "      <td>0.396187</td>\n",
       "      <td>0.829533</td>\n",
       "      <td>0.674039</td>\n",
       "      <td>0.644141</td>\n",
       "      <td>0.710154</td>\n",
       "      <td>0.523064</td>\n",
       "      <td>0.627139</td>\n",
       "      <td>0.814853</td>\n",
       "    </tr>\n",
       "    <tr>\n",
       "      <th>DO32860</th>\n",
       "      <td>0.730505</td>\n",
       "      <td>0.705514</td>\n",
       "      <td>0.235543</td>\n",
       "      <td>0.646740</td>\n",
       "      <td>0.717188</td>\n",
       "      <td>0.180174</td>\n",
       "      <td>0.669995</td>\n",
       "      <td>0.593576</td>\n",
       "      <td>0.568219</td>\n",
       "      <td>0.598016</td>\n",
       "      <td>...</td>\n",
       "      <td>0.730566</td>\n",
       "      <td>0.261108</td>\n",
       "      <td>0.520969</td>\n",
       "      <td>0.827235</td>\n",
       "      <td>0.423808</td>\n",
       "      <td>0.288732</td>\n",
       "      <td>0.754906</td>\n",
       "      <td>0.371720</td>\n",
       "      <td>0.632526</td>\n",
       "      <td>0.756701</td>\n",
       "    </tr>\n",
       "    <tr>\n",
       "      <th>...</th>\n",
       "      <td>...</td>\n",
       "      <td>...</td>\n",
       "      <td>...</td>\n",
       "      <td>...</td>\n",
       "      <td>...</td>\n",
       "      <td>...</td>\n",
       "      <td>...</td>\n",
       "      <td>...</td>\n",
       "      <td>...</td>\n",
       "      <td>...</td>\n",
       "      <td>...</td>\n",
       "      <td>...</td>\n",
       "      <td>...</td>\n",
       "      <td>...</td>\n",
       "      <td>...</td>\n",
       "      <td>...</td>\n",
       "      <td>...</td>\n",
       "      <td>...</td>\n",
       "      <td>...</td>\n",
       "      <td>...</td>\n",
       "      <td>...</td>\n",
       "    </tr>\n",
       "    <tr>\n",
       "      <th>DO6436</th>\n",
       "      <td>0.835258</td>\n",
       "      <td>0.325335</td>\n",
       "      <td>0.107240</td>\n",
       "      <td>0.710940</td>\n",
       "      <td>0.812999</td>\n",
       "      <td>0.236781</td>\n",
       "      <td>0.821971</td>\n",
       "      <td>0.779654</td>\n",
       "      <td>0.896851</td>\n",
       "      <td>0.727753</td>\n",
       "      <td>...</td>\n",
       "      <td>0.800279</td>\n",
       "      <td>0.092550</td>\n",
       "      <td>0.090425</td>\n",
       "      <td>0.886819</td>\n",
       "      <td>0.156284</td>\n",
       "      <td>0.231390</td>\n",
       "      <td>0.869960</td>\n",
       "      <td>0.197517</td>\n",
       "      <td>0.435292</td>\n",
       "      <td>0.899429</td>\n",
       "    </tr>\n",
       "    <tr>\n",
       "      <th>DO230505</th>\n",
       "      <td>0.816891</td>\n",
       "      <td>0.825813</td>\n",
       "      <td>0.474730</td>\n",
       "      <td>0.703935</td>\n",
       "      <td>0.711469</td>\n",
       "      <td>0.168689</td>\n",
       "      <td>0.614270</td>\n",
       "      <td>0.701690</td>\n",
       "      <td>0.586329</td>\n",
       "      <td>0.487908</td>\n",
       "      <td>...</td>\n",
       "      <td>0.466744</td>\n",
       "      <td>0.610034</td>\n",
       "      <td>0.462205</td>\n",
       "      <td>0.829533</td>\n",
       "      <td>0.674039</td>\n",
       "      <td>0.644141</td>\n",
       "      <td>0.710154</td>\n",
       "      <td>0.523064</td>\n",
       "      <td>0.627139</td>\n",
       "      <td>0.767209</td>\n",
       "    </tr>\n",
       "    <tr>\n",
       "      <th>DO46528</th>\n",
       "      <td>0.765537</td>\n",
       "      <td>0.664663</td>\n",
       "      <td>0.276289</td>\n",
       "      <td>0.698257</td>\n",
       "      <td>0.454159</td>\n",
       "      <td>0.151031</td>\n",
       "      <td>0.574600</td>\n",
       "      <td>0.443121</td>\n",
       "      <td>0.539148</td>\n",
       "      <td>0.807248</td>\n",
       "      <td>...</td>\n",
       "      <td>0.399743</td>\n",
       "      <td>0.502328</td>\n",
       "      <td>0.148001</td>\n",
       "      <td>0.867028</td>\n",
       "      <td>0.370777</td>\n",
       "      <td>0.161262</td>\n",
       "      <td>0.829850</td>\n",
       "      <td>0.309106</td>\n",
       "      <td>0.434976</td>\n",
       "      <td>0.841880</td>\n",
       "    </tr>\n",
       "    <tr>\n",
       "      <th>DO230521</th>\n",
       "      <td>0.816891</td>\n",
       "      <td>0.825813</td>\n",
       "      <td>0.474730</td>\n",
       "      <td>0.703935</td>\n",
       "      <td>0.711469</td>\n",
       "      <td>0.168689</td>\n",
       "      <td>0.614270</td>\n",
       "      <td>0.701690</td>\n",
       "      <td>0.586329</td>\n",
       "      <td>0.479562</td>\n",
       "      <td>...</td>\n",
       "      <td>0.466744</td>\n",
       "      <td>0.610034</td>\n",
       "      <td>0.421031</td>\n",
       "      <td>0.829533</td>\n",
       "      <td>0.674039</td>\n",
       "      <td>0.644141</td>\n",
       "      <td>0.710154</td>\n",
       "      <td>0.523064</td>\n",
       "      <td>0.627139</td>\n",
       "      <td>0.421442</td>\n",
       "    </tr>\n",
       "    <tr>\n",
       "      <th>DO46568</th>\n",
       "      <td>0.746929</td>\n",
       "      <td>0.664663</td>\n",
       "      <td>0.297183</td>\n",
       "      <td>0.773890</td>\n",
       "      <td>0.615751</td>\n",
       "      <td>0.151031</td>\n",
       "      <td>0.684722</td>\n",
       "      <td>0.443121</td>\n",
       "      <td>0.539148</td>\n",
       "      <td>0.764953</td>\n",
       "      <td>...</td>\n",
       "      <td>0.544337</td>\n",
       "      <td>0.502328</td>\n",
       "      <td>0.180725</td>\n",
       "      <td>0.824424</td>\n",
       "      <td>0.370777</td>\n",
       "      <td>0.248485</td>\n",
       "      <td>0.739246</td>\n",
       "      <td>0.370382</td>\n",
       "      <td>0.434976</td>\n",
       "      <td>0.798972</td>\n",
       "    </tr>\n",
       "  </tbody>\n",
       "</table>\n",
       "<p>132 rows × 10000 columns</p>\n",
       "</div>"
      ],
      "text/plain": [
       "          cg21939836  cg19513004  cg10611580  cg19765450  cg25738301  \\\n",
       "DO229587    0.816891    0.825813    0.474730    0.703935    0.711469   \n",
       "DO34264     0.709653    0.699921    0.209666    0.662381    0.707842   \n",
       "DO6492      0.840957    0.308044    0.119956    0.719026    0.833976   \n",
       "DO51050     0.816891    0.825813    0.474730    0.703935    0.711469   \n",
       "DO32860     0.730505    0.705514    0.235543    0.646740    0.717188   \n",
       "...              ...         ...         ...         ...         ...   \n",
       "DO6436      0.835258    0.325335    0.107240    0.710940    0.812999   \n",
       "DO230505    0.816891    0.825813    0.474730    0.703935    0.711469   \n",
       "DO46528     0.765537    0.664663    0.276289    0.698257    0.454159   \n",
       "DO230521    0.816891    0.825813    0.474730    0.703935    0.711469   \n",
       "DO46568     0.746929    0.664663    0.297183    0.773890    0.615751   \n",
       "\n",
       "          cg20324262  cg12198841  cg14858014  cg11023456  cg20318272  ...  \\\n",
       "DO229587    0.168689    0.614270    0.701690    0.586329    0.479562  ...   \n",
       "DO34264     0.173406    0.707967    0.628674    0.571434    0.681396  ...   \n",
       "DO6492      0.286467    0.802153    0.755499    0.899448    0.692306  ...   \n",
       "DO51050     0.168689    0.586204    0.732861    0.586329    0.469216  ...   \n",
       "DO32860     0.180174    0.669995    0.593576    0.568219    0.598016  ...   \n",
       "...              ...         ...         ...         ...         ...  ...   \n",
       "DO6436      0.236781    0.821971    0.779654    0.896851    0.727753  ...   \n",
       "DO230505    0.168689    0.614270    0.701690    0.586329    0.487908  ...   \n",
       "DO46528     0.151031    0.574600    0.443121    0.539148    0.807248  ...   \n",
       "DO230521    0.168689    0.614270    0.701690    0.586329    0.479562  ...   \n",
       "DO46568     0.151031    0.684722    0.443121    0.539148    0.764953  ...   \n",
       "\n",
       "          cg25765464  cg03866192  cg24289912  cg21265427  cg24432193  \\\n",
       "DO229587    0.466744    0.610034    0.462205    0.829533    0.674039   \n",
       "DO34264     0.718385    0.238607    0.367543    0.835807    0.331577   \n",
       "DO6492      0.785762    0.098763    0.090268    0.878880    0.228655   \n",
       "DO51050     0.455235    0.610034    0.396187    0.829533    0.674039   \n",
       "DO32860     0.730566    0.261108    0.520969    0.827235    0.423808   \n",
       "...              ...         ...         ...         ...         ...   \n",
       "DO6436      0.800279    0.092550    0.090425    0.886819    0.156284   \n",
       "DO230505    0.466744    0.610034    0.462205    0.829533    0.674039   \n",
       "DO46528     0.399743    0.502328    0.148001    0.867028    0.370777   \n",
       "DO230521    0.466744    0.610034    0.421031    0.829533    0.674039   \n",
       "DO46568     0.544337    0.502328    0.180725    0.824424    0.370777   \n",
       "\n",
       "          cg06780032  cg19862213  cg12798157  cg26050734  cg11677683  \n",
       "DO229587    0.644141    0.710154    0.523064    0.627139    0.767209  \n",
       "DO34264     0.236527    0.778839    0.329154    0.635916    0.795738  \n",
       "DO6492      0.183940    0.851975    0.255794    0.496408    0.916266  \n",
       "DO51050     0.644141    0.710154    0.523064    0.627139    0.814853  \n",
       "DO32860     0.288732    0.754906    0.371720    0.632526    0.756701  \n",
       "...              ...         ...         ...         ...         ...  \n",
       "DO6436      0.231390    0.869960    0.197517    0.435292    0.899429  \n",
       "DO230505    0.644141    0.710154    0.523064    0.627139    0.767209  \n",
       "DO46528     0.161262    0.829850    0.309106    0.434976    0.841880  \n",
       "DO230521    0.644141    0.710154    0.523064    0.627139    0.421442  \n",
       "DO46568     0.248485    0.739246    0.370382    0.434976    0.798972  \n",
       "\n",
       "[132 rows x 10000 columns]"
      ]
     },
     "execution_count": 75,
     "metadata": {},
     "output_type": "execute_result"
    }
   ],
   "source": [
    "icgc_methyl_pred.pred_df"
   ]
  },
  {
   "cell_type": "code",
   "execution_count": null,
   "metadata": {},
   "outputs": [],
   "source": []
  }
 ],
 "metadata": {
  "kernelspec": {
   "display_name": "Python 3.9.6 ('big_data')",
   "language": "python",
   "name": "python3"
  },
  "language_info": {
   "codemirror_mode": {
    "name": "ipython",
    "version": 3
   },
   "file_extension": ".py",
   "mimetype": "text/x-python",
   "name": "python",
   "nbconvert_exporter": "python",
   "pygments_lexer": "ipython3",
   "version": "3.9.6"
  },
  "orig_nbformat": 4,
  "vscode": {
   "interpreter": {
    "hash": "a1503193e5ffaa35c0c69857903e72fe32e1565e821b70ae44cce5264b7b1650"
   }
  }
 },
 "nbformat": 4,
 "nbformat_minor": 2
}
