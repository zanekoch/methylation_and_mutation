{
 "cells": [
  {
   "cell_type": "code",
   "execution_count": 1,
   "metadata": {},
   "outputs": [],
   "source": [
    "import sys\n",
    "sys.path.append('/cellar/users/zkoch/methylation_and_mutation/source_files')\n",
    "%load_ext autoreload\n",
    "%aimport mutation_features, methylation_pred\n",
    "%autoreload 1\n",
    "import get_data, analysis, utils, plotting, compute_comethylation, methyl_mut_burden, somatic_mut_clock, mutation_features, methylation_pred"
   ]
  },
  {
   "cell_type": "code",
   "execution_count": 2,
   "metadata": {},
   "outputs": [],
   "source": [
    "import glob\n",
    "import os\n",
    "import matplotlib.pyplot as plt\n",
    "import numpy as np\n",
    "import pandas as pd\n",
    "import seaborn as sns\n",
    "from collections import defaultdict\n",
    "import pickle\n",
    "import dask.dataframe as dd\n",
    "from scipy.stats import spearmanr\n",
    "from rich.progress import track\n",
    "import statsmodels.formula.api as smf\n",
    "import matplotlib.ticker as ticker\n",
    "import colorcet as cc\n",
    "from scipy.stats import spearmanr\n",
    "from scipy import stats\n",
    "import dask\n",
    "import sklearn\n",
    "from sklearn.linear_model import LinearRegression, ElasticNet, ElasticNetCV\n",
    "\n",
    "%config InlineBackend.figure_format = 'retina'\n",
    "plt.style.use(\"seaborn-deep\")"
   ]
  },
  {
   "cell_type": "code",
   "execution_count": 45,
   "metadata": {},
   "outputs": [],
   "source": [
    "out_dir = \"/cellar/users/zkoch/methylation_and_mutation/output_dirs/021423_output\"\n",
    "dependency_f_dir = \"./dependency_files\"\n",
    "data_dir = \"./data\"\n",
    "corr_dir = '/cellar/users/zkoch/methylation_and_mutation/dependency_files/chr_dset_corrs'\n",
    "#methylation_dir = '/cellar/users/zkoch/methylation_and_mutation/data/dropped3SD_qnormed_methylation'\n",
    "methylation_dir = '/cellar/users/zkoch/methylation_and_mutation/data/processed_methylation'\n",
    "icgc_dir = \"/cellar/users/zkoch/methylation_and_mutation/data/icgc\""
   ]
  },
  {
   "cell_type": "markdown",
   "metadata": {},
   "source": [
    "# TCGA"
   ]
  },
  {
   "cell_type": "markdown",
   "metadata": {},
   "source": [
    "### Get data"
   ]
  },
  {
   "cell_type": "code",
   "execution_count": 4,
   "metadata": {},
   "outputs": [
    {
     "name": "stdout",
     "output_type": "stream",
     "text": [
      "Got mutations and metadata, reading methylation\n",
      "Converting Dask df to pandas df, takes ~10min\n",
      "Got methylation, transposing\n",
      "Done\n"
     ]
    }
   ],
   "source": [
    "illumina_cpg_locs_df, all_mut_df, all_methyl_df, all_methyl_df_t, all_meta_df, dataset_names_list = get_data.main(\n",
    "    illum_cpg_locs_fn = os.path.join(dependency_f_dir, \"illumina_cpg_450k_locations.csv\"),\n",
    "    out_dir = out_dir,\n",
    "    methyl_dir = methylation_dir,\n",
    "    mut_fn = os.path.join(data_dir, \"PANCAN_mut.tsv.gz\"),\n",
    "    meta_fn = os.path.join(data_dir, \"PANCAN_meta.tsv\"))"
   ]
  },
  {
   "cell_type": "code",
   "execution_count": 5,
   "metadata": {},
   "outputs": [],
   "source": [
    "# read in other already computed files\n",
    "mut_in_measured_cpg_w_methyl_age_df = pd.read_parquet(os.path.join(dependency_f_dir, \"mut_in_measured_cpg_w_methyl_age_df_5year.parquet\"))\n",
    "all_mut_w_age_df, all_methyl_age_df_t = utils.add_ages_to_mut_and_methyl(all_mut_df, all_meta_df, all_methyl_df_t)"
   ]
  },
  {
   "cell_type": "code",
   "execution_count": 6,
   "metadata": {},
   "outputs": [],
   "source": [
    "# read in train and test samples\n",
    "train_samples_fn = os.path.join(dependency_f_dir, \"train_samples.txt\")\n",
    "with open(train_samples_fn, \"r\") as f:\n",
    "    training_samples = f.read().splitlines()\n",
    "# read in train and test samples\n",
    "test_samples_fn = os.path.join(dependency_f_dir,\"test_samples.txt\")\n",
    "with open(test_samples_fn, \"r\") as f:\n",
    "    testing_samples = f.read().splitlines()\n",
    "# read in mi\n",
    "mi_combined_df = pd.read_parquet(os.path.join(dependency_f_dir, 'mutual_informations', 'tcga_combinedMI_top10MI.parquet'))"
   ]
  },
  {
   "cell_type": "code",
   "execution_count": 7,
   "metadata": {},
   "outputs": [],
   "source": [
    "skcm_training_samples = list(set(all_methyl_age_df_t[all_methyl_age_df_t['dataset'] == 'SKCM'].index.to_list()).intersection(set(training_samples)))\n",
    "skcm_testing_samples = list(set(all_methyl_age_df_t[all_methyl_age_df_t['dataset'] == 'SKCM'].index.to_list()).intersection(set(testing_samples)))"
   ]
  },
  {
   "cell_type": "markdown",
   "metadata": {},
   "source": [
    "# ICGC"
   ]
  },
  {
   "cell_type": "markdown",
   "metadata": {},
   "source": [
    "### Get data"
   ]
  },
  {
   "cell_type": "code",
   "execution_count": 80,
   "metadata": {},
   "outputs": [],
   "source": [
    "icgc_mut_df = pd.read_parquet(\"/cellar/users/zkoch/methylation_and_mutation/data/icgc/for_matrixQTL/icgc_mut_df.parquet\")\n",
    "icgc_meta_df = pd.read_parquet(\"/cellar/users/zkoch/methylation_and_mutation/data/icgc/for_matrixQTL/icgc_meta_df.parquet\")\n",
    "illumina_cpg_locs_df = get_data.get_illum_locs(os.path.join(dependency_f_dir, \"illumina_cpg_450k_locations.csv\"))\n",
    "icgc_methyl_dd = dd.read_parquet('/cellar/users/zkoch/methylation_and_mutation/data/icgc/methyl_dir')\n",
    "icgc_methyl_df = icgc_methyl_dd.compute()\n",
    "icgc_methyl_df_t = icgc_methyl_df.T\n",
    "shared_samples = set(icgc_methyl_df_t.index) & set(icgc_mut_df['sample'].unique()) & set(icgc_meta_df['sample'].unique())\n",
    "icgc_methyl_df_t = icgc_methyl_df_t.loc[shared_samples]\n",
    "icgc_methyl_df_t.dropna(how = 'any', axis=1, inplace=True)\n",
    "icgc_mi_df = pd.read_parquet('/cellar/users/zkoch/methylation_and_mutation/output_dirs/011723_output/icgc_mi.parquet')\n",
    "icgc_mi_df.sort_values(by='mutual_info', ascending=False, inplace=True)"
   ]
  },
  {
   "cell_type": "code",
   "execution_count": 30,
   "metadata": {},
   "outputs": [
    {
     "data": {
      "text/plain": [
       "PRAD-CA    241\n",
       "PACA-AU    167\n",
       "OV-AU       93\n",
       "PBCA-DE     74\n",
       "CLLE-ES     55\n",
       "PAEN-AU     22\n",
       "UTCA-FR     17\n",
       "PRAD-UK      3\n",
       "Name: dataset, dtype: int64"
      ]
     },
     "execution_count": 30,
     "metadata": {},
     "output_type": "execute_result"
    }
   ],
   "source": [
    "icgc_meta_df['dataset'].value_counts()"
   ]
  },
  {
   "cell_type": "code",
   "execution_count": 81,
   "metadata": {},
   "outputs": [
    {
     "name": "stderr",
     "output_type": "stream",
     "text": [
      "/tmp/ipykernel_1597874/2635062645.py:10: SettingWithCopyWarning: \n",
      "A value is trying to be set on a copy of a slice from a DataFrame.\n",
      "Try using .loc[row_indexer,col_indexer] = value instead\n",
      "\n",
      "See the caveats in the documentation: https://pandas.pydata.org/pandas-docs/stable/user_guide/indexing.html#returning-a-view-versus-a-copy\n",
      "  icgc_meta_df_to_merge['gender'] = icgc_meta_df_to_merge['gender'].str.upper()\n"
     ]
    }
   ],
   "source": [
    "# rename columns \n",
    "icgc_mut_df.rename(columns={'chromosome':'chr', 'sample': 'case_submitter_id', 'chromosome_start':'start', 'MAF': 'DNA_VAF'}, inplace=True)\n",
    "icgc_meta_df.rename(columns={'sample': 'case_submitter_id'}, inplace=True)\n",
    "# merge with mut\n",
    "icgc_mut_w_age_df = icgc_mut_df.merge(icgc_meta_df, on='case_submitter_id', how='left')\n",
    "# and methyl dfs\n",
    "icgc_meta_df_to_merge = icgc_meta_df[['case_submitter_id', 'age_at_index', 'dataset', 'gender']]\n",
    "icgc_meta_df_to_merge.set_index('case_submitter_id', inplace=True)\n",
    "# make gender column uppercase\n",
    "icgc_meta_df_to_merge['gender'] = icgc_meta_df_to_merge['gender'].str.upper()\n",
    "icgc_methyl_age_df_t = icgc_methyl_df_t.merge(icgc_meta_df_to_merge, left_index=True, right_index=True, how='left')"
   ]
  },
  {
   "cell_type": "markdown",
   "metadata": {},
   "source": [
    "# TODO"
   ]
  },
  {
   "cell_type": "code",
   "execution_count": null,
   "metadata": {},
   "outputs": [],
   "source": [
    "\"\"\"\n",
    "1) Profile what the slowest part of creating feature matrices is and/or parallelize (either through bash jobs or python)\n",
    "2) Wrap the whole thing in a 5 fold cross validation, so changing the training and testing samples each time\n",
    "2) for some reason the training samples are not getting subset correctly\n",
    "3) Get the ICGC data to work\n",
    "\"\"\""
   ]
  },
  {
   "cell_type": "markdown",
   "metadata": {},
   "source": [
    "# Mutation features"
   ]
  },
  {
   "cell_type": "code",
   "execution_count": 117,
   "metadata": {},
   "outputs": [],
   "source": [
    "mut_feat = mutation_features.mutationFeatures(\n",
    "    all_mut_w_age_df = all_mut_w_age_df, illumina_cpg_locs_df = illumina_cpg_locs_df, \n",
    "    all_methyl_age_df_t = all_methyl_age_df_t, out_dir = out_dir, consortium = 'TCGA', dataset = 'SKCM',\n",
    "    cross_val_num = 0,\n",
    "    matrix_qtl_dir = \"/cellar/users/zkoch/methylation_and_mutation/data/matrixQtl_data/muts\"\n",
    "    )"
   ]
  },
  {
   "cell_type": "code",
   "execution_count": 48,
   "metadata": {},
   "outputs": [
    {
     "name": "stdout",
     "output_type": "stream",
     "text": [
      "Finished 0 of 2\n",
      "Saved mutation features to\n",
      "/cellar/users/zkoch/methylation_and_mutation/output_dirs/021423_output/TCGA_SKCM_5000correl_100correlExt_100meqtl_25000nearby_Bothagg_2numCpGs_startTopCpGs_crossValNum/TCGA_SKCM_5000correl_100correlExt_100meqtl_25000nearby_Bothagg_2numCpGs_startTopCpGs_crossValNum.features.pkl\n"
     ]
    }
   ],
   "source": [
    "# choose which CpGs to generate features for\n",
    "skcm_mi_df = mi_combined_df['SKCM'].to_frame().rename(columns = {'SKCM':'mutual_info'})\n",
    "cpg_pred_priority = mut_feat.choose_cpgs_to_train(mi_df = skcm_mi_df, bin_size=20000, sort_by=['mutual_info', 'count'])\n",
    "mut_feat.create_all_feat_mats(\n",
    "    cpg_ids = cpg_pred_priority.head(2)['#id'].to_list(), aggregate='Both',\n",
    "    num_correl_sites=5000, num_correl_ext_sites=100, max_meqtl_sites=100,\n",
    "    nearby_window_size=25000\n",
    "    )\n",
    "mut_feat_store_fn = mut_feat.save_mutation_features()"
   ]
  },
  {
   "cell_type": "code",
   "execution_count": 127,
   "metadata": {},
   "outputs": [
    {
     "name": "stdout",
     "output_type": "stream",
     "text": [
      "done 0 CpGs of 10000\n",
      "done 10 CpGs of 10000\n",
      "done 20 CpGs of 10000\n",
      "done 30 CpGs of 10000\n",
      "done 40 CpGs of 10000\n",
      "done 50 CpGs of 10000\n",
      "done 60 CpGs of 10000\n",
      "done 70 CpGs of 10000\n",
      "done 80 CpGs of 10000\n",
      "done 90 CpGs of 10000\n",
      "done 100 CpGs of 10000\n",
      "done 110 CpGs of 10000\n",
      "done 120 CpGs of 10000\n",
      "done 130 CpGs of 10000\n",
      "done 140 CpGs of 10000\n",
      "done 150 CpGs of 10000\n",
      "done 160 CpGs of 10000\n",
      "done 170 CpGs of 10000\n",
      "done 180 CpGs of 10000\n",
      "done 190 CpGs of 10000\n",
      "done 200 CpGs of 10000\n",
      "done 210 CpGs of 10000\n",
      "done 220 CpGs of 10000\n",
      "done 230 CpGs of 10000\n",
      "done 240 CpGs of 10000\n",
      "done 250 CpGs of 10000\n",
      "done 260 CpGs of 10000\n",
      "done 270 CpGs of 10000\n",
      "done 280 CpGs of 10000\n",
      "done 290 CpGs of 10000\n",
      "done 300 CpGs of 10000\n",
      "done 310 CpGs of 10000\n",
      "done 320 CpGs of 10000\n"
     ]
    },
    {
     "ename": "KeyboardInterrupt",
     "evalue": "",
     "output_type": "error",
     "traceback": [
      "\u001b[0;31m---------------------------------------------------------------------------\u001b[0m",
      "\u001b[0;31mKeyboardInterrupt\u001b[0m                         Traceback (most recent call last)",
      "\u001b[0;32m/tmp/ipykernel_1597874/2288026128.py\u001b[0m in \u001b[0;36m<module>\u001b[0;34m\u001b[0m\n\u001b[1;32m      5\u001b[0m     \u001b[0mmodel_type\u001b[0m \u001b[0;34m=\u001b[0m \u001b[0;34m'xgboost'\u001b[0m\u001b[0;34m\u001b[0m\u001b[0;34m\u001b[0m\u001b[0m\n\u001b[1;32m      6\u001b[0m     )\n\u001b[0;32m----> 7\u001b[0;31m \u001b[0mmethyl_pred\u001b[0m\u001b[0;34m.\u001b[0m\u001b[0mtrain_all_models\u001b[0m\u001b[0;34m(\u001b[0m\u001b[0;34m)\u001b[0m\u001b[0;34m\u001b[0m\u001b[0;34m\u001b[0m\u001b[0m\n\u001b[0m\u001b[1;32m      8\u001b[0m \u001b[0mmethyl_pred\u001b[0m\u001b[0;34m.\u001b[0m\u001b[0mapply_all_models\u001b[0m\u001b[0;34m(\u001b[0m\u001b[0;34m)\u001b[0m\u001b[0;34m\u001b[0m\u001b[0;34m\u001b[0m\u001b[0m\n\u001b[1;32m      9\u001b[0m \u001b[0mmethyl_pred\u001b[0m\u001b[0;34m.\u001b[0m\u001b[0msave_models_and_preds\u001b[0m\u001b[0;34m(\u001b[0m\u001b[0;34m)\u001b[0m\u001b[0;34m\u001b[0m\u001b[0;34m\u001b[0m\u001b[0m\n",
      "\u001b[0;32m~/methylation_and_mutation/source_files/methylation_pred.py\u001b[0m in \u001b[0;36mtrain_all_models\u001b[0;34m(self)\u001b[0m\n\u001b[1;32m    156\u001b[0m         \u001b[0;32mfor\u001b[0m \u001b[0mi\u001b[0m\u001b[0;34m,\u001b[0m \u001b[0mcpg_id\u001b[0m \u001b[0;32min\u001b[0m \u001b[0menumerate\u001b[0m\u001b[0;34m(\u001b[0m\u001b[0mself\u001b[0m\u001b[0;34m.\u001b[0m\u001b[0mmut_feat_store\u001b[0m\u001b[0;34m[\u001b[0m\u001b[0;34m'cpg_ids'\u001b[0m\u001b[0;34m]\u001b[0m\u001b[0;34m)\u001b[0m\u001b[0;34m:\u001b[0m\u001b[0;34m\u001b[0m\u001b[0;34m\u001b[0m\u001b[0m\n\u001b[1;32m    157\u001b[0m             \u001b[0;31m# for each feature set in the store train a model\u001b[0m\u001b[0;34m\u001b[0m\u001b[0;34m\u001b[0m\u001b[0;34m\u001b[0m\u001b[0m\n\u001b[0;32m--> 158\u001b[0;31m             self.train_one_model(\n\u001b[0m\u001b[1;32m    159\u001b[0m                 \u001b[0mcpg_id\u001b[0m \u001b[0;34m=\u001b[0m \u001b[0mcpg_id\u001b[0m\u001b[0;34m,\u001b[0m\u001b[0;34m\u001b[0m\u001b[0;34m\u001b[0m\u001b[0m\n\u001b[1;32m    160\u001b[0m                 \u001b[0mX\u001b[0m \u001b[0;34m=\u001b[0m \u001b[0mself\u001b[0m\u001b[0;34m.\u001b[0m\u001b[0mmut_feat_store\u001b[0m\u001b[0;34m[\u001b[0m\u001b[0;34m'feat_mats'\u001b[0m\u001b[0;34m]\u001b[0m\u001b[0;34m[\u001b[0m\u001b[0mcpg_id\u001b[0m\u001b[0;34m]\u001b[0m\u001b[0;34m,\u001b[0m\u001b[0;34m\u001b[0m\u001b[0;34m\u001b[0m\u001b[0m\n",
      "\u001b[0;32m~/methylation_and_mutation/source_files/methylation_pred.py\u001b[0m in \u001b[0;36mtrain_one_model\u001b[0;34m(self, cpg_id, X, y)\u001b[0m\n\u001b[1;32m    138\u001b[0m \u001b[0;34m\u001b[0m\u001b[0m\n\u001b[1;32m    139\u001b[0m         \u001b[0;31m# fit model to training samples\u001b[0m\u001b[0;34m\u001b[0m\u001b[0;34m\u001b[0m\u001b[0;34m\u001b[0m\u001b[0m\n\u001b[0;32m--> 140\u001b[0;31m         \u001b[0mmodel\u001b[0m\u001b[0;34m.\u001b[0m\u001b[0mfit\u001b[0m\u001b[0;34m(\u001b[0m\u001b[0mX\u001b[0m\u001b[0;34m.\u001b[0m\u001b[0mloc\u001b[0m\u001b[0;34m[\u001b[0m\u001b[0mself\u001b[0m\u001b[0;34m.\u001b[0m\u001b[0mtrain_samples\u001b[0m\u001b[0;34m]\u001b[0m\u001b[0;34m,\u001b[0m \u001b[0my\u001b[0m\u001b[0;34m.\u001b[0m\u001b[0mloc\u001b[0m\u001b[0;34m[\u001b[0m\u001b[0mself\u001b[0m\u001b[0;34m.\u001b[0m\u001b[0mtrain_samples\u001b[0m\u001b[0;34m]\u001b[0m\u001b[0;34m)\u001b[0m\u001b[0;34m\u001b[0m\u001b[0;34m\u001b[0m\u001b[0m\n\u001b[0m\u001b[1;32m    141\u001b[0m \u001b[0;34m\u001b[0m\u001b[0m\n\u001b[1;32m    142\u001b[0m         \u001b[0;31m# add to trained models dictionary\u001b[0m\u001b[0;34m\u001b[0m\u001b[0;34m\u001b[0m\u001b[0;34m\u001b[0m\u001b[0m\n",
      "\u001b[0;32m~/miniconda3/envs/big_data/lib/python3.9/site-packages/xgboost/core.py\u001b[0m in \u001b[0;36minner_f\u001b[0;34m(*args, **kwargs)\u001b[0m\n\u001b[1;32m    618\u001b[0m             \u001b[0;32mfor\u001b[0m \u001b[0mk\u001b[0m\u001b[0;34m,\u001b[0m \u001b[0marg\u001b[0m \u001b[0;32min\u001b[0m \u001b[0mzip\u001b[0m\u001b[0;34m(\u001b[0m\u001b[0msig\u001b[0m\u001b[0;34m.\u001b[0m\u001b[0mparameters\u001b[0m\u001b[0;34m,\u001b[0m \u001b[0margs\u001b[0m\u001b[0;34m)\u001b[0m\u001b[0;34m:\u001b[0m\u001b[0;34m\u001b[0m\u001b[0;34m\u001b[0m\u001b[0m\n\u001b[1;32m    619\u001b[0m                 \u001b[0mkwargs\u001b[0m\u001b[0;34m[\u001b[0m\u001b[0mk\u001b[0m\u001b[0;34m]\u001b[0m \u001b[0;34m=\u001b[0m \u001b[0marg\u001b[0m\u001b[0;34m\u001b[0m\u001b[0;34m\u001b[0m\u001b[0m\n\u001b[0;32m--> 620\u001b[0;31m             \u001b[0;32mreturn\u001b[0m \u001b[0mfunc\u001b[0m\u001b[0;34m(\u001b[0m\u001b[0;34m**\u001b[0m\u001b[0mkwargs\u001b[0m\u001b[0;34m)\u001b[0m\u001b[0;34m\u001b[0m\u001b[0;34m\u001b[0m\u001b[0m\n\u001b[0m\u001b[1;32m    621\u001b[0m \u001b[0;34m\u001b[0m\u001b[0m\n\u001b[1;32m    622\u001b[0m         \u001b[0;32mreturn\u001b[0m \u001b[0minner_f\u001b[0m\u001b[0;34m\u001b[0m\u001b[0;34m\u001b[0m\u001b[0m\n",
      "\u001b[0;32m~/miniconda3/envs/big_data/lib/python3.9/site-packages/xgboost/sklearn.py\u001b[0m in \u001b[0;36mfit\u001b[0;34m(self, X, y, sample_weight, base_margin, eval_set, eval_metric, early_stopping_rounds, verbose, xgb_model, sample_weight_eval_set, base_margin_eval_set, feature_weights, callbacks)\u001b[0m\n\u001b[1;32m   1023\u001b[0m                 \u001b[0mxgb_model\u001b[0m\u001b[0;34m,\u001b[0m \u001b[0meval_metric\u001b[0m\u001b[0;34m,\u001b[0m \u001b[0mparams\u001b[0m\u001b[0;34m,\u001b[0m \u001b[0mearly_stopping_rounds\u001b[0m\u001b[0;34m,\u001b[0m \u001b[0mcallbacks\u001b[0m\u001b[0;34m\u001b[0m\u001b[0;34m\u001b[0m\u001b[0m\n\u001b[1;32m   1024\u001b[0m             )\n\u001b[0;32m-> 1025\u001b[0;31m             self._Booster = train(\n\u001b[0m\u001b[1;32m   1026\u001b[0m                 \u001b[0mparams\u001b[0m\u001b[0;34m,\u001b[0m\u001b[0;34m\u001b[0m\u001b[0;34m\u001b[0m\u001b[0m\n\u001b[1;32m   1027\u001b[0m                 \u001b[0mtrain_dmatrix\u001b[0m\u001b[0;34m,\u001b[0m\u001b[0;34m\u001b[0m\u001b[0;34m\u001b[0m\u001b[0m\n",
      "\u001b[0;32m~/miniconda3/envs/big_data/lib/python3.9/site-packages/xgboost/core.py\u001b[0m in \u001b[0;36minner_f\u001b[0;34m(*args, **kwargs)\u001b[0m\n\u001b[1;32m    618\u001b[0m             \u001b[0;32mfor\u001b[0m \u001b[0mk\u001b[0m\u001b[0;34m,\u001b[0m \u001b[0marg\u001b[0m \u001b[0;32min\u001b[0m \u001b[0mzip\u001b[0m\u001b[0;34m(\u001b[0m\u001b[0msig\u001b[0m\u001b[0;34m.\u001b[0m\u001b[0mparameters\u001b[0m\u001b[0;34m,\u001b[0m \u001b[0margs\u001b[0m\u001b[0;34m)\u001b[0m\u001b[0;34m:\u001b[0m\u001b[0;34m\u001b[0m\u001b[0;34m\u001b[0m\u001b[0m\n\u001b[1;32m    619\u001b[0m                 \u001b[0mkwargs\u001b[0m\u001b[0;34m[\u001b[0m\u001b[0mk\u001b[0m\u001b[0;34m]\u001b[0m \u001b[0;34m=\u001b[0m \u001b[0marg\u001b[0m\u001b[0;34m\u001b[0m\u001b[0;34m\u001b[0m\u001b[0m\n\u001b[0;32m--> 620\u001b[0;31m             \u001b[0;32mreturn\u001b[0m \u001b[0mfunc\u001b[0m\u001b[0;34m(\u001b[0m\u001b[0;34m**\u001b[0m\u001b[0mkwargs\u001b[0m\u001b[0;34m)\u001b[0m\u001b[0;34m\u001b[0m\u001b[0;34m\u001b[0m\u001b[0m\n\u001b[0m\u001b[1;32m    621\u001b[0m \u001b[0;34m\u001b[0m\u001b[0m\n\u001b[1;32m    622\u001b[0m         \u001b[0;32mreturn\u001b[0m \u001b[0minner_f\u001b[0m\u001b[0;34m\u001b[0m\u001b[0;34m\u001b[0m\u001b[0m\n",
      "\u001b[0;32m~/miniconda3/envs/big_data/lib/python3.9/site-packages/xgboost/training.py\u001b[0m in \u001b[0;36mtrain\u001b[0;34m(params, dtrain, num_boost_round, evals, obj, feval, maximize, early_stopping_rounds, evals_result, verbose_eval, xgb_model, callbacks, custom_metric)\u001b[0m\n\u001b[1;32m    183\u001b[0m         \u001b[0;32mif\u001b[0m \u001b[0mcb_container\u001b[0m\u001b[0;34m.\u001b[0m\u001b[0mbefore_iteration\u001b[0m\u001b[0;34m(\u001b[0m\u001b[0mbst\u001b[0m\u001b[0;34m,\u001b[0m \u001b[0mi\u001b[0m\u001b[0;34m,\u001b[0m \u001b[0mdtrain\u001b[0m\u001b[0;34m,\u001b[0m \u001b[0mevals\u001b[0m\u001b[0;34m)\u001b[0m\u001b[0;34m:\u001b[0m\u001b[0;34m\u001b[0m\u001b[0;34m\u001b[0m\u001b[0m\n\u001b[1;32m    184\u001b[0m             \u001b[0;32mbreak\u001b[0m\u001b[0;34m\u001b[0m\u001b[0;34m\u001b[0m\u001b[0m\n\u001b[0;32m--> 185\u001b[0;31m         \u001b[0mbst\u001b[0m\u001b[0;34m.\u001b[0m\u001b[0mupdate\u001b[0m\u001b[0;34m(\u001b[0m\u001b[0mdtrain\u001b[0m\u001b[0;34m,\u001b[0m \u001b[0mi\u001b[0m\u001b[0;34m,\u001b[0m \u001b[0mobj\u001b[0m\u001b[0;34m)\u001b[0m\u001b[0;34m\u001b[0m\u001b[0;34m\u001b[0m\u001b[0m\n\u001b[0m\u001b[1;32m    186\u001b[0m         \u001b[0;32mif\u001b[0m \u001b[0mcb_container\u001b[0m\u001b[0;34m.\u001b[0m\u001b[0mafter_iteration\u001b[0m\u001b[0;34m(\u001b[0m\u001b[0mbst\u001b[0m\u001b[0;34m,\u001b[0m \u001b[0mi\u001b[0m\u001b[0;34m,\u001b[0m \u001b[0mdtrain\u001b[0m\u001b[0;34m,\u001b[0m \u001b[0mevals\u001b[0m\u001b[0;34m)\u001b[0m\u001b[0;34m:\u001b[0m\u001b[0;34m\u001b[0m\u001b[0;34m\u001b[0m\u001b[0m\n\u001b[1;32m    187\u001b[0m             \u001b[0;32mbreak\u001b[0m\u001b[0;34m\u001b[0m\u001b[0;34m\u001b[0m\u001b[0m\n",
      "\u001b[0;32m~/miniconda3/envs/big_data/lib/python3.9/site-packages/xgboost/core.py\u001b[0m in \u001b[0;36mupdate\u001b[0;34m(self, dtrain, iteration, fobj)\u001b[0m\n\u001b[1;32m   1916\u001b[0m \u001b[0;34m\u001b[0m\u001b[0m\n\u001b[1;32m   1917\u001b[0m         \u001b[0;32mif\u001b[0m \u001b[0mfobj\u001b[0m \u001b[0;32mis\u001b[0m \u001b[0;32mNone\u001b[0m\u001b[0;34m:\u001b[0m\u001b[0;34m\u001b[0m\u001b[0;34m\u001b[0m\u001b[0m\n\u001b[0;32m-> 1918\u001b[0;31m             _check_call(_LIB.XGBoosterUpdateOneIter(self.handle,\n\u001b[0m\u001b[1;32m   1919\u001b[0m                                                     \u001b[0mctypes\u001b[0m\u001b[0;34m.\u001b[0m\u001b[0mc_int\u001b[0m\u001b[0;34m(\u001b[0m\u001b[0miteration\u001b[0m\u001b[0;34m)\u001b[0m\u001b[0;34m,\u001b[0m\u001b[0;34m\u001b[0m\u001b[0;34m\u001b[0m\u001b[0m\n\u001b[1;32m   1920\u001b[0m                                                     dtrain.handle))\n",
      "\u001b[0;31mKeyboardInterrupt\u001b[0m: "
     ]
    }
   ],
   "source": [
    "mut_feat_store_fns = glob.glob(\"/cellar/users/zkoch/methylation_and_mutation/output_dirs/021423_output/TCGA_SKCM_5000correl_100correlExt_100meqtl_25000nearby_Bothagg_2500numCpGs_*startTopCpGs_0crossValNum/*features.pkl\")\n",
    "# train predictors for these cpgs\n",
    "methyl_pred = methylation_pred.methylationPrediction(\n",
    "    mut_feat_store_fns = mut_feat_store_fns,\n",
    "    model_type = 'xgboost'\n",
    "    )\n",
    "methyl_pred.train_all_models()\n",
    "methyl_pred.apply_all_models()\n",
    "methyl_pred.save_models_and_preds()"
   ]
  },
  {
   "cell_type": "markdown",
   "metadata": {},
   "source": [
    "# ICGC testing"
   ]
  },
  {
   "cell_type": "code",
   "execution_count": 230,
   "metadata": {},
   "outputs": [],
   "source": [
    "icgc_mut_feat = mutation_features.mutationFeatures(\n",
    "    all_mut_w_age_df = icgc_mut_w_age_df, illumina_cpg_locs_df = illumina_cpg_locs_df, \n",
    "    all_methyl_age_df_t = icgc_methyl_age_df_t, out_dir = out_dir, dataset = 'PRAD-CA',\n",
    "    consortium = 'ICGC', train_samples = train, test_samples = test,\n",
    "    matrix_qtl_dir = \"/cellar/users/zkoch/methylation_and_mutation/output_dirs/icgc_muts_011423\"\n",
    "    )"
   ]
  },
  {
   "cell_type": "code",
   "execution_count": 289,
   "metadata": {},
   "outputs": [
    {
     "name": "stdout",
     "output_type": "stream",
     "text": [
      "Finished 0 of 10\n"
     ]
    }
   ],
   "source": [
    "icgc_cpg_pred_priority = icgc_mut_feat.choose_cpgs_to_train(mi_df = icgc_mi_df, bin_size=20000, sort_by=['mutual_info', 'count'])\n",
    "icgc_mut_feat.create_all_feat_mats(\n",
    "    cpg_ids = icgc_cpg_pred_priority.head(10)['#id'].to_list(), aggregate='Both',\n",
    "    num_correl_sites=5000, num_correl_ext_sites=100, max_meqtl_sites=100,\n",
    "    nearby_window_size=25000\n",
    "    )"
   ]
  },
  {
   "cell_type": "code",
   "execution_count": null,
   "metadata": {},
   "outputs": [],
   "source": [
    "mut_feat_store_fns = glob.glob('/cellar/users/zkoch/methylation_and_mutation/output_dirs/020723_output/ICGC__5000correl_100correlExt_100meqtl_25000nearby_Bothagg_2500numCpGs_*/*features.pkl')\n",
    "# train predictors for these cpgs\n",
    "icgc_methyl_pred = methylation_pred.methylationPrediction(\n",
    "    mut_feat_store_fns = mut_feat_store_fns,\n",
    "    model_type = 'xgboost'\n",
    "    )\n",
    "icgc_methyl_pred.train_all_models()\n",
    "icgc_methyl_pred.apply_all_models()\n",
    "icgc_methyl_pred.save_models_and_preds()"
   ]
  },
  {
   "cell_type": "code",
   "execution_count": 102,
   "metadata": {},
   "outputs": [],
   "source": [
    "train_df = icgc_methyl_age_df_t.loc[icgc_methyl_pred.train_samples, icgc_methyl_pred.mut_feat_store['cpg_ids']]\n",
    "train_ages = icgc_methyl_age_df_t.loc[icgc_methyl_pred.train_samples, 'age_at_index'].dropna()\n",
    "train_df = train_df.loc[train_ages.index, :]\n",
    "\n",
    "test_df = icgc_methyl_pred.pred_df\n",
    "test_ages = icgc_methyl_age_df_t.loc[icgc_methyl_pred.test_samples, 'age_at_index']"
   ]
  },
  {
   "cell_type": "code",
   "execution_count": null,
   "metadata": {},
   "outputs": [],
   "source": [
    "model = ElasticNetCV(cv=5, random_state=0, max_iter=10000, n_jobs=-1, verbose=1)\n",
    "# train the model on the training set\n",
    "model.fit(train_df, train_ages)\n",
    "# predict the ages on the test set\n",
    "pred_ages = model.predict(test_df)"
   ]
  },
  {
   "cell_type": "code",
   "execution_count": 113,
   "metadata": {},
   "outputs": [
    {
     "data": {
      "text/plain": [
       "0.8288474017235258"
      ]
     },
     "execution_count": 113,
     "metadata": {},
     "output_type": "execute_result"
    },
    {
     "data": {
      "image/png": "[encoded data removed]",
      "text/plain": [
       "<Figure size 432x288 with 1 Axes>"
      ]
     },
     "metadata": {
      "image/png": {
       "height": 261,
       "width": 382
      },
      "needs_background": "light"
     },
     "output_type": "display_data"
    }
   ],
   "source": [
    "to_plot = pd.DataFrame({'pred_ages':pred_ages, 'test_ages':test_ages, 'dataset': icgc_methyl_age_df_t.loc[icgc_methyl_pred.test_samples, 'dataset'].to_list()})\n",
    "sns.scatterplot(data=to_plot, x='test_ages', y='pred_ages', hue='dataset')\n",
    "print(np.corrcoef(test_ages, pred_ages)[0][1]**2"
   ]
  },
  {
   "cell_type": "code",
   "execution_count": null,
   "metadata": {},
   "outputs": [],
   "source": []
  }
 ],
 "metadata": {
  "kernelspec": {
   "display_name": "Python 3.9.6 ('big_data')",
   "language": "python",
   "name": "python3"
  },
  "language_info": {
   "codemirror_mode": {
    "name": "ipython",
    "version": 3
   },
   "file_extension": ".py",
   "mimetype": "text/x-python",
   "name": "python",
   "nbconvert_exporter": "python",
   "pygments_lexer": "ipython3",
   "version": "3.9.6"
  },
  "orig_nbformat": 4,
  "vscode": {
   "interpreter": {
    "hash": "a1503193e5ffaa35c0c69857903e72fe32e1565e821b70ae44cce5264b7b1650"
   }
  }
 },
 "nbformat": 4,
 "nbformat_minor": 2
}
