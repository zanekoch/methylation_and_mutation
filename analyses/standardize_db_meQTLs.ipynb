{
 "cells": [
  {
   "cell_type": "code",
   "execution_count": 23,
   "metadata": {},
   "outputs": [],
   "source": [
    "import pandas as pd \n",
    "import numpy as np\n",
    "import os\n",
    "from glob import glob"
   ]
  },
  {
   "cell_type": "code",
   "execution_count": 24,
   "metadata": {},
   "outputs": [],
   "source": [
    "db_dir = \"/cellar/users/zkoch/methylation_and_mutation/data/meQTL\""
   ]
  },
  {
   "cell_type": "code",
   "execution_count": null,
   "metadata": {},
   "outputs": [],
   "source": [
    "\"\"\"\n",
    "Put each DB into a parquet file with columns: cpg: strings of cpg ids, beta: float beta values, snp: strings of snp ids locations chr:start\n",
    "\"\"\""
   ]
  },
  {
   "cell_type": "code",
   "execution_count": 19,
   "metadata": {},
   "outputs": [],
   "source": [
    "goDMC = pd.read_parquet(os.path.join(db_dir, \"goDMC_meQTL/goDMC_meQTLs_for_mutClock.parquet\"))"
   ]
  },
  {
   "cell_type": "code",
   "execution_count": 20,
   "metadata": {},
   "outputs": [],
   "source": [
    "goDMC.columns = [\"cpg\", \"beta\", \"snp\"]"
   ]
  },
  {
   "cell_type": "code",
   "execution_count": 22,
   "metadata": {},
   "outputs": [],
   "source": [
    "goDMC.to_parquet(os.path.join(db_dir, \"goDMC_meQTL/goDMC_meQTLs_for_mutClock.parquet\"))"
   ]
  },
  {
   "attachments": {},
   "cell_type": "markdown",
   "metadata": {},
   "source": [
    "### Huan"
   ]
  },
  {
   "cell_type": "code",
   "execution_count": 24,
   "metadata": {},
   "outputs": [
    {
     "name": "stderr",
     "output_type": "stream",
     "text": [
      "/cellar/users/zkoch/miniconda3/envs/big_data/lib/python3.9/site-packages/IPython/core/interactiveshell.py:3441: DtypeWarning: Columns (20) have mixed types.Specify dtype option on import or set low_memory=False.\n",
      "  exec(code_obj, self.user_global_ns, self.user_ns)\n"
     ]
    }
   ],
   "source": [
    "all_haun_dfs = []\n",
    "for fn in glob(os.path.join(db_dir, \"huan_meqtl\", \"*.csv.gz\")):\n",
    "    one_huan_df = pd.read_csv(fn, sep = \",\")\n",
    "    keep_cols = [\"CpG\", \"beta\", \"Marker\"]\n",
    "    # rename columns\n",
    "    one_huan_df = one_huan_df[keep_cols]\n",
    "    one_huan_df.columns = [\"cpg\", \"beta\", \"snp\"]\n",
    "    all_haun_dfs.append(one_huan_df)"
   ]
  },
  {
   "cell_type": "code",
   "execution_count": 25,
   "metadata": {},
   "outputs": [],
   "source": [
    "huan = pd.concat(all_haun_dfs)\n",
    "huan.reset_index(drop = True, inplace = True)"
   ]
  },
  {
   "cell_type": "code",
   "execution_count": 26,
   "metadata": {},
   "outputs": [],
   "source": [
    "huan.to_parquet(os.path.join(db_dir, \"huan_meqtl/huan_meQTLs_for_mutClock.parquet\"))"
   ]
  },
  {
   "attachments": {},
   "cell_type": "markdown",
   "metadata": {},
   "source": [
    "### Villicana"
   ]
  },
  {
   "cell_type": "code",
   "execution_count": 27,
   "metadata": {},
   "outputs": [],
   "source": [
    "villicana_df = pd.read_csv(os.path.join(db_dir, \"villicana_meqtls\", \"top_meQTL.txt\"), sep = \"\\t\")\n",
    "villicana_df = villicana_df[['CpG', 'Beta', 'Top SNP']]"
   ]
  },
  {
   "cell_type": "code",
   "execution_count": null,
   "metadata": {},
   "outputs": [],
   "source": [
    "# split top SNP of _ and take first part\n",
    "villicana_df['snp'] = villicana_df['Top SNP'].apply(lambda x: x.split(\"_\")[0])\n",
    "# drop top SNP\n",
    "villicana_df.drop('Top SNP', axis = 1, inplace = True)\n",
    "# rename columns\n",
    "villicana_df.columns = ['cpg', 'beta', 'snp']"
   ]
  },
  {
   "cell_type": "code",
   "execution_count": 35,
   "metadata": {},
   "outputs": [],
   "source": [
    "villicana_df.to_parquet(os.path.join(db_dir, \"villicana_meqtls/villicana_meQTLs_for_mutClock.parquet\"))"
   ]
  },
  {
   "attachments": {},
   "cell_type": "markdown",
   "metadata": {},
   "source": [
    "### Hannon"
   ]
  },
  {
   "cell_type": "code",
   "execution_count": 36,
   "metadata": {},
   "outputs": [],
   "source": [
    "hannon_df = pd.read_csv(os.path.join(db_dir, \"hannon_meqtls\", \"All_Imputed_BonfSignificant_mQTLs.csv.gz\"), sep = \",\")"
   ]
  },
  {
   "cell_type": "code",
   "execution_count": 38,
   "metadata": {},
   "outputs": [],
   "source": [
    "hannon_df = hannon_df[['ProbeID', 'beta', 'SNP_Chr', 'SNP_BP']]"
   ]
  },
  {
   "cell_type": "code",
   "execution_count": 40,
   "metadata": {},
   "outputs": [
    {
     "name": "stderr",
     "output_type": "stream",
     "text": [
      "/tmp/ipykernel_1542628/2428519182.py:1: SettingWithCopyWarning: \n",
      "A value is trying to be set on a copy of a slice from a DataFrame.\n",
      "Try using .loc[row_indexer,col_indexer] = value instead\n",
      "\n",
      "See the caveats in the documentation: https://pandas.pydata.org/pandas-docs/stable/user_guide/indexing.html#returning-a-view-versus-a-copy\n",
      "  hannon_df['snp'] = hannon_df['SNP_Chr'].astype(str) + \":\" + hannon_df['SNP_BP'].astype(str)\n",
      "/cellar/users/zkoch/miniconda3/envs/big_data/lib/python3.9/site-packages/pandas/core/frame.py:4901: SettingWithCopyWarning: \n",
      "A value is trying to be set on a copy of a slice from a DataFrame\n",
      "\n",
      "See the caveats in the documentation: https://pandas.pydata.org/pandas-docs/stable/user_guide/indexing.html#returning-a-view-versus-a-copy\n",
      "  return super().drop(\n"
     ]
    }
   ],
   "source": [
    "hannon_df['snp'] = hannon_df['SNP_Chr'].astype(str) + \":\" + hannon_df['SNP_BP'].astype(str)\n",
    "hannon_df.drop(['SNP_Chr', 'SNP_BP'], axis = 1, inplace = True)\n",
    "hannon_df.columns = ['cpg', 'beta', 'snp']"
   ]
  },
  {
   "cell_type": "code",
   "execution_count": 42,
   "metadata": {},
   "outputs": [],
   "source": [
    "hannon_df.to_parquet(os.path.join(db_dir, \"hannon_meqtls/hannon_meQTLs_for_mutClock.parquet\"))"
   ]
  },
  {
   "attachments": {},
   "cell_type": "markdown",
   "metadata": {},
   "source": [
    "### Arcelus"
   ]
  },
  {
   "cell_type": "code",
   "execution_count": 43,
   "metadata": {},
   "outputs": [],
   "source": [
    "fns = glob(os.path.join(db_dir, \"arcelus_meqtls/GENCORD2_ASSOCIATIONS/*MQTL*\"))"
   ]
  },
  {
   "cell_type": "code",
   "execution_count": 45,
   "metadata": {},
   "outputs": [],
   "source": [
    "all_arcelus_dfs = []\n",
    "for fn in fns:\n",
    "    df = pd.read_csv(fn, sep = \"\\t\")\n",
    "    df = df[['METHYL_ID', 'rvalue', 'SNP_chromosome', 'SNP_location']]\n",
    "    df['snp'] = df['SNP_chromosome'].astype(str) + \":\" + df['SNP_location'].astype(str)\n",
    "    df.drop(['SNP_chromosome', 'SNP_location'], axis = 1, inplace = True)\n",
    "    df.columns = ['cpg', 'beta', 'snp']\n",
    "    all_arcelus_dfs.append(df)"
   ]
  },
  {
   "cell_type": "code",
   "execution_count": 46,
   "metadata": {},
   "outputs": [],
   "source": [
    "all_arcelus_df = pd.concat(all_arcelus_dfs)\n",
    "all_arcelus_df.reset_index(drop = True, inplace = True)"
   ]
  },
  {
   "cell_type": "code",
   "execution_count": 52,
   "metadata": {},
   "outputs": [],
   "source": [
    "all_arcelus_df.to_parquet(os.path.join(db_dir, \"arcelus_meqtls/arcelus_meQTLs_for_mutClock.parquet\"))"
   ]
  },
  {
   "attachments": {},
   "cell_type": "markdown",
   "metadata": {},
   "source": [
    "### mqtl db: Need to get SNP mapping file"
   ]
  },
  {
   "cell_type": "code",
   "execution_count": 4,
   "metadata": {},
   "outputs": [],
   "source": [
    "snp_map = pd.read_csv(os.path.join(db_dir, \"mqtl_db\",\"ariesmqtlsnps.bim\"), sep = \"\\t\", header = None)\n",
    "snp_map.columns = ['chr', 'snp', '?', 'pos', 'a1', 'a2']"
   ]
  },
  {
   "cell_type": "code",
   "execution_count": 5,
   "metadata": {},
   "outputs": [],
   "source": [
    "fns = glob(os.path.join(db_dir, \"mqtl_db\", \"*.tab\"))\n",
    "all_mqtl_dfs = []\n",
    "for fn in fns:\n",
    "    one_mqtl_df = pd.read_csv(fn, sep = \"\\t\")\n",
    "    one_mqtl_df = one_mqtl_df[['gene', 'beta', 'SNP']]\n",
    "    all_mqtl_dfs.append(one_mqtl_df)"
   ]
  },
  {
   "cell_type": "code",
   "execution_count": 6,
   "metadata": {},
   "outputs": [],
   "source": [
    "all_mqtl_df = pd.concat(all_mqtl_dfs)\n",
    "all_mqtl_df.reset_index(drop = True, inplace = True)"
   ]
  },
  {
   "cell_type": "code",
   "execution_count": 7,
   "metadata": {},
   "outputs": [],
   "source": [
    "# map SNP to chr and pos \n",
    "all_mqtl_df = all_mqtl_df.merge(snp_map, left_on = 'SNP', right_on = 'snp', how = 'left')"
   ]
  },
  {
   "cell_type": "code",
   "execution_count": 8,
   "metadata": {},
   "outputs": [],
   "source": [
    "all_mqtl_df.drop(['snp', 'SNP', 'a1', 'a2', '?'], axis = 1, inplace = True)"
   ]
  },
  {
   "cell_type": "code",
   "execution_count": 13,
   "metadata": {},
   "outputs": [],
   "source": [
    "all_mqtl_df.dropna(inplace = True)"
   ]
  },
  {
   "cell_type": "code",
   "execution_count": 14,
   "metadata": {},
   "outputs": [],
   "source": [
    "# convert chr and pos columns from float to int\n",
    "all_mqtl_df['chr'] = all_mqtl_df['chr'].astype(int)\n",
    "all_mqtl_df['pos'] = all_mqtl_df['pos'].astype(int)\n"
   ]
  },
  {
   "cell_type": "code",
   "execution_count": 15,
   "metadata": {},
   "outputs": [],
   "source": [
    "all_mqtl_df['snp'] = all_mqtl_df['chr'].astype(str) + \":\" + all_mqtl_df['pos'].astype(str)"
   ]
  },
  {
   "cell_type": "code",
   "execution_count": 16,
   "metadata": {},
   "outputs": [
    {
     "data": {
      "text/html": [
       "<div>\n",
       "<style scoped>\n",
       "    .dataframe tbody tr th:only-of-type {\n",
       "        vertical-align: middle;\n",
       "    }\n",
       "\n",
       "    .dataframe tbody tr th {\n",
       "        vertical-align: top;\n",
       "    }\n",
       "\n",
       "    .dataframe thead th {\n",
       "        text-align: right;\n",
       "    }\n",
       "</style>\n",
       "<table border=\"1\" class=\"dataframe\">\n",
       "  <thead>\n",
       "    <tr style=\"text-align: right;\">\n",
       "      <th></th>\n",
       "      <th>gene</th>\n",
       "      <th>beta</th>\n",
       "      <th>chr</th>\n",
       "      <th>pos</th>\n",
       "      <th>snp</th>\n",
       "    </tr>\n",
       "  </thead>\n",
       "  <tbody>\n",
       "    <tr>\n",
       "      <th>0</th>\n",
       "      <td>cg12500956</td>\n",
       "      <td>0.874594</td>\n",
       "      <td>2</td>\n",
       "      <td>135428054</td>\n",
       "      <td>2:135428054</td>\n",
       "    </tr>\n",
       "    <tr>\n",
       "      <th>1</th>\n",
       "      <td>cg12500956</td>\n",
       "      <td>0.874594</td>\n",
       "      <td>2</td>\n",
       "      <td>135429002</td>\n",
       "      <td>2:135429002</td>\n",
       "    </tr>\n",
       "    <tr>\n",
       "      <th>2</th>\n",
       "      <td>cg12500956</td>\n",
       "      <td>0.874594</td>\n",
       "      <td>2</td>\n",
       "      <td>135430621</td>\n",
       "      <td>2:135430621</td>\n",
       "    </tr>\n",
       "    <tr>\n",
       "      <th>3</th>\n",
       "      <td>cg12500956</td>\n",
       "      <td>0.874594</td>\n",
       "      <td>2</td>\n",
       "      <td>135433023</td>\n",
       "      <td>2:135433023</td>\n",
       "    </tr>\n",
       "    <tr>\n",
       "      <th>4</th>\n",
       "      <td>cg12500956</td>\n",
       "      <td>0.874594</td>\n",
       "      <td>2</td>\n",
       "      <td>135434849</td>\n",
       "      <td>2:135434849</td>\n",
       "    </tr>\n",
       "    <tr>\n",
       "      <th>...</th>\n",
       "      <td>...</td>\n",
       "      <td>...</td>\n",
       "      <td>...</td>\n",
       "      <td>...</td>\n",
       "      <td>...</td>\n",
       "    </tr>\n",
       "    <tr>\n",
       "      <th>43956472</th>\n",
       "      <td>cg05127548</td>\n",
       "      <td>-0.261207</td>\n",
       "      <td>1</td>\n",
       "      <td>33789968</td>\n",
       "      <td>1:33789968</td>\n",
       "    </tr>\n",
       "    <tr>\n",
       "      <th>43956473</th>\n",
       "      <td>cg25368083</td>\n",
       "      <td>-0.421091</td>\n",
       "      <td>1</td>\n",
       "      <td>33137199</td>\n",
       "      <td>1:33137199</td>\n",
       "    </tr>\n",
       "    <tr>\n",
       "      <th>43956474</th>\n",
       "      <td>cg14098468</td>\n",
       "      <td>-0.218124</td>\n",
       "      <td>1</td>\n",
       "      <td>31318604</td>\n",
       "      <td>1:31318604</td>\n",
       "    </tr>\n",
       "    <tr>\n",
       "      <th>43956475</th>\n",
       "      <td>cg01815720</td>\n",
       "      <td>0.251016</td>\n",
       "      <td>1</td>\n",
       "      <td>31308177</td>\n",
       "      <td>1:31308177</td>\n",
       "    </tr>\n",
       "    <tr>\n",
       "      <th>43956476</th>\n",
       "      <td>cg04680746</td>\n",
       "      <td>-0.213338</td>\n",
       "      <td>1</td>\n",
       "      <td>31314185</td>\n",
       "      <td>1:31314185</td>\n",
       "    </tr>\n",
       "  </tbody>\n",
       "</table>\n",
       "<p>43600329 rows × 5 columns</p>\n",
       "</div>"
      ],
      "text/plain": [
       "                gene      beta  chr        pos          snp\n",
       "0         cg12500956  0.874594    2  135428054  2:135428054\n",
       "1         cg12500956  0.874594    2  135429002  2:135429002\n",
       "2         cg12500956  0.874594    2  135430621  2:135430621\n",
       "3         cg12500956  0.874594    2  135433023  2:135433023\n",
       "4         cg12500956  0.874594    2  135434849  2:135434849\n",
       "...              ...       ...  ...        ...          ...\n",
       "43956472  cg05127548 -0.261207    1   33789968   1:33789968\n",
       "43956473  cg25368083 -0.421091    1   33137199   1:33137199\n",
       "43956474  cg14098468 -0.218124    1   31318604   1:31318604\n",
       "43956475  cg01815720  0.251016    1   31308177   1:31308177\n",
       "43956476  cg04680746 -0.213338    1   31314185   1:31314185\n",
       "\n",
       "[43600329 rows x 5 columns]"
      ]
     },
     "execution_count": 16,
     "metadata": {},
     "output_type": "execute_result"
    }
   ],
   "source": [
    "all_mqtl_df"
   ]
  },
  {
   "cell_type": "code",
   "execution_count": 17,
   "metadata": {},
   "outputs": [],
   "source": [
    "all_mqtl_df.drop(['chr', 'pos'], axis = 1, inplace = True)"
   ]
  },
  {
   "cell_type": "code",
   "execution_count": 27,
   "metadata": {},
   "outputs": [],
   "source": [
    "all_mqtl_df.columns = ['cpg', 'beta', 'snp']"
   ]
  },
  {
   "cell_type": "code",
   "execution_count": 28,
   "metadata": {},
   "outputs": [],
   "source": [
    "all_mqtl_df.to_parquet(os.path.join(db_dir, \"mqtl_db/mqtl_db_for_mutClock.parquet\"))"
   ]
  },
  {
   "cell_type": "code",
   "execution_count": 30,
   "metadata": {},
   "outputs": [],
   "source": [
    "all_mqtl_df = pd.read_parquet(os.path.join(db_dir, \"mqtl_db/mqtl_db_for_mutClock.parquet\"))"
   ]
  },
  {
   "cell_type": "code",
   "execution_count": 31,
   "metadata": {},
   "outputs": [
    {
     "data": {
      "text/html": [
       "<div>\n",
       "<style scoped>\n",
       "    .dataframe tbody tr th:only-of-type {\n",
       "        vertical-align: middle;\n",
       "    }\n",
       "\n",
       "    .dataframe tbody tr th {\n",
       "        vertical-align: top;\n",
       "    }\n",
       "\n",
       "    .dataframe thead th {\n",
       "        text-align: right;\n",
       "    }\n",
       "</style>\n",
       "<table border=\"1\" class=\"dataframe\">\n",
       "  <thead>\n",
       "    <tr style=\"text-align: right;\">\n",
       "      <th></th>\n",
       "      <th>cpg</th>\n",
       "      <th>beta</th>\n",
       "      <th>snp</th>\n",
       "    </tr>\n",
       "  </thead>\n",
       "  <tbody>\n",
       "    <tr>\n",
       "      <th>0</th>\n",
       "      <td>cg12500956</td>\n",
       "      <td>0.874594</td>\n",
       "      <td>2:135428054</td>\n",
       "    </tr>\n",
       "    <tr>\n",
       "      <th>1</th>\n",
       "      <td>cg12500956</td>\n",
       "      <td>0.874594</td>\n",
       "      <td>2:135429002</td>\n",
       "    </tr>\n",
       "    <tr>\n",
       "      <th>2</th>\n",
       "      <td>cg12500956</td>\n",
       "      <td>0.874594</td>\n",
       "      <td>2:135430621</td>\n",
       "    </tr>\n",
       "    <tr>\n",
       "      <th>3</th>\n",
       "      <td>cg12500956</td>\n",
       "      <td>0.874594</td>\n",
       "      <td>2:135433023</td>\n",
       "    </tr>\n",
       "    <tr>\n",
       "      <th>4</th>\n",
       "      <td>cg12500956</td>\n",
       "      <td>0.874594</td>\n",
       "      <td>2:135434849</td>\n",
       "    </tr>\n",
       "    <tr>\n",
       "      <th>...</th>\n",
       "      <td>...</td>\n",
       "      <td>...</td>\n",
       "      <td>...</td>\n",
       "    </tr>\n",
       "    <tr>\n",
       "      <th>43956472</th>\n",
       "      <td>cg05127548</td>\n",
       "      <td>-0.261207</td>\n",
       "      <td>1:33789968</td>\n",
       "    </tr>\n",
       "    <tr>\n",
       "      <th>43956473</th>\n",
       "      <td>cg25368083</td>\n",
       "      <td>-0.421091</td>\n",
       "      <td>1:33137199</td>\n",
       "    </tr>\n",
       "    <tr>\n",
       "      <th>43956474</th>\n",
       "      <td>cg14098468</td>\n",
       "      <td>-0.218124</td>\n",
       "      <td>1:31318604</td>\n",
       "    </tr>\n",
       "    <tr>\n",
       "      <th>43956475</th>\n",
       "      <td>cg01815720</td>\n",
       "      <td>0.251016</td>\n",
       "      <td>1:31308177</td>\n",
       "    </tr>\n",
       "    <tr>\n",
       "      <th>43956476</th>\n",
       "      <td>cg04680746</td>\n",
       "      <td>-0.213338</td>\n",
       "      <td>1:31314185</td>\n",
       "    </tr>\n",
       "  </tbody>\n",
       "</table>\n",
       "<p>43600329 rows × 3 columns</p>\n",
       "</div>"
      ],
      "text/plain": [
       "                 cpg      beta          snp\n",
       "0         cg12500956  0.874594  2:135428054\n",
       "1         cg12500956  0.874594  2:135429002\n",
       "2         cg12500956  0.874594  2:135430621\n",
       "3         cg12500956  0.874594  2:135433023\n",
       "4         cg12500956  0.874594  2:135434849\n",
       "...              ...       ...          ...\n",
       "43956472  cg05127548 -0.261207   1:33789968\n",
       "43956473  cg25368083 -0.421091   1:33137199\n",
       "43956474  cg14098468 -0.218124   1:31318604\n",
       "43956475  cg01815720  0.251016   1:31308177\n",
       "43956476  cg04680746 -0.213338   1:31314185\n",
       "\n",
       "[43600329 rows x 3 columns]"
      ]
     },
     "execution_count": 31,
     "metadata": {},
     "output_type": "execute_result"
    }
   ],
   "source": [
    "all_mqtl_df"
   ]
  },
  {
   "cell_type": "code",
   "execution_count": null,
   "metadata": {},
   "outputs": [],
   "source": []
  }
 ],
 "metadata": {
  "kernelspec": {
   "display_name": "big_data",
   "language": "python",
   "name": "python3"
  },
  "language_info": {
   "codemirror_mode": {
    "name": "ipython",
    "version": 3
   },
   "file_extension": ".py",
   "mimetype": "text/x-python",
   "name": "python",
   "nbconvert_exporter": "python",
   "pygments_lexer": "ipython3",
   "version": "3.9.6"
  },
  "orig_nbformat": 4
 },
 "nbformat": 4,
 "nbformat_minor": 2
}
